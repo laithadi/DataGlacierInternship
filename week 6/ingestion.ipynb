{
 "metadata": {
  "language_info": {
   "codemirror_mode": {
    "name": "ipython",
    "version": 3
   },
   "file_extension": ".py",
   "mimetype": "text/x-python",
   "name": "python",
   "nbconvert_exporter": "python",
   "pygments_lexer": "ipython3",
   "version": "3.8.3-final"
  },
  "orig_nbformat": 2,
  "kernelspec": {
   "name": "python38364bit01921fdebdd24efa8d6ff90ac85a0e91",
   "display_name": "Python 3.8.3 64-bit",
   "language": "python"
  }
 },
 "nbformat": 4,
 "nbformat_minor": 2,
 "cells": [
  {
   "source": [
    "Summary of file: \n",
    "\n",
    "Number of rows: A lot. I cannot open the actual file because of its size. <br><br>\n",
    "Number of columns: 5<br><br>\n",
    "File size: 3.13 GB\n"
   ],
   "cell_type": "markdown",
   "metadata": {}
  },
  {
   "cell_type": "code",
   "execution_count": 17,
   "metadata": {},
   "outputs": [
    {
     "output_type": "stream",
     "name": "stdout",
     "text": [
      "Overwriting utils.py\n"
     ]
    }
   ],
   "source": [
    "%%writefile utils.py\n",
    "\n",
    "import yaml \n",
    "import pandas as pd \n",
    "import logging\n",
    "\n",
    "# FILE READING \n",
    "\n",
    "def config_file(filepath):\n",
    "\n",
    "    with open(filepath, 'r') as file: \n",
    "        try: \n",
    "            return yaml.safe_load(file)\n",
    "        except yaml.YAMLError as exc:\n",
    "            logging.error(exc)\n",
    "\n",
    "def valid_col(df, config_table):\n",
    "\n",
    "    df.columns = df.columns.str.lower()\n",
    "    expected_cols = list(map(lambda x: x.lower(), config_table[\"columns\"]))\n",
    "\n",
    "    len_df_cols = len(list(df.columns))\n",
    "    len_config_cols = len(list(config_table[\"columns\"]))\n",
    "\n",
    "    if len_df_cols == len_config_cols and list(df.columns) == list(expected_cols):\n",
    "        print(\"Column length and name test: PASSED\")\n",
    "        print(\"The column names are: \", list(expected_cols))\n",
    "        print(\"The number of columns is \", len_config_cols)\n",
    "        return 1, len_df_cols, len_config_cols\n",
    "    else: \n",
    "        mismatched_cols = list(set(expected_cols).difference(df.columns))\n",
    "        print(\"Column length and name test: FAILED\")\n",
    "        print(\"Following columns are not in the YAML file: \")\n",
    "        print(mismatched_cols)\n",
    "        print(\"There are is a difference of {} number of columns that are mismatched.\".format(len(mismatched_cols)))\n",
    "        return 0, len_df_cols, len_config_cols"
   ]
  },
  {
   "cell_type": "code",
   "execution_count": 10,
   "metadata": {},
   "outputs": [
    {
     "output_type": "stream",
     "name": "stdout",
     "text": [
      "Writing file.yaml\n"
     ]
    }
   ],
   "source": [
    "%%writefile file.yaml\n",
    "file_type: csv\n",
    "file_name: stocks\n",
    "inbound_delimiter: \",\"\n",
    "outbound_delimiter: \"|\"\n",
    "skip_leading_rows: 1\n",
    "columns:\n",
    "    - exchange country\n",
    "    - symbol \n",
    "    - company name\n",
    "    - market capitalization (percentile)\n",
    "    - percent (%) change, 5 day "
   ]
  },
  {
   "cell_type": "code",
   "execution_count": 11,
   "metadata": {},
   "outputs": [],
   "source": [
    "# using yaml to read the data \n",
    "import utils as u \n",
    "\n",
    "conf_table = u.config_file(\"file.yaml\")"
   ]
  },
  {
   "cell_type": "code",
   "execution_count": 12,
   "metadata": {},
   "outputs": [
    {
     "output_type": "execute_result",
     "data": {
      "text/plain": [
       "{'file_type': 'csv',\n",
       " 'file_name': 'stocks',\n",
       " 'inbound_delimiter': ',',\n",
       " 'outbound_delimiter': '|',\n",
       " 'skip_leading_rows': 1,\n",
       " 'columns': ['exchange country',\n",
       "  'symbol',\n",
       "  'company name',\n",
       "  'market capitalization (percentile)',\n",
       "  'percent (%) change, 5 day']}"
      ]
     },
     "metadata": {},
     "execution_count": 12
    }
   ],
   "source": [
    "conf_table"
   ]
  },
  {
   "source": [
    "THE DATA IS TOO BIG TO LOAD ON MY COMPUTER TO READ IT. So I commented the code so you can still see my work :) "
   ],
   "cell_type": "markdown",
   "metadata": {}
  },
  {
   "cell_type": "code",
   "execution_count": 14,
   "metadata": {},
   "outputs": [],
   "source": [
    "# hard code way to read the file using pandas \n",
    "# import pandas as pd \n",
    "\n",
    "# df = pd.read_csv(\"stocks.csv\")"
   ]
  },
  {
   "cell_type": "code",
   "execution_count": 15,
   "metadata": {},
   "outputs": [],
   "source": [
    "# using the yaml file to read in the data. dynamic code \n",
    "\n",
    "# file_type = conf_table[\"file_type\"]\n",
    "# file_name = conf_table[\"file_name\"]\n",
    "# delimiter = conf_table[\"inbound_delimiter\"]\n",
    "\n",
    "# df = pd.read_csv(\"./\"+file_name+\".\"+file_type, delimiter= delimiter)"
   ]
  },
  {
   "source": [
    "calling the valid_col() from utils to validate the columns"
   ],
   "cell_type": "markdown",
   "metadata": {}
  },
  {
   "cell_type": "code",
   "execution_count": null,
   "metadata": {},
   "outputs": [],
   "source": [
    "valid, len_df, len_yaml = u.valid_col(df, conf_table)\n",
    "\n",
    "if valid == 0: \n",
    "    print(\"Validation test: FAILED\")\n",
    "else: \n",
    "    print(\"Validation test: PASSED\")\n",
    "    # more stuff for the pipeline"
   ]
  }
 ]
}
