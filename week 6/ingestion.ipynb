{
 "metadata": {
  "language_info": {
   "codemirror_mode": {
    "name": "ipython",
    "version": 3
   },
   "file_extension": ".py",
   "mimetype": "text/x-python",
   "name": "python",
   "nbconvert_exporter": "python",
   "pygments_lexer": "ipython3",
   "version": "3.8.3-final"
  },
  "orig_nbformat": 2,
  "kernelspec": {
   "name": "python38364bit01921fdebdd24efa8d6ff90ac85a0e91",
   "display_name": "Python 3.8.3 64-bit",
   "language": "python"
  }
 },
 "nbformat": 4,
 "nbformat_minor": 2,
 "cells": [
  {
   "cell_type": "code",
   "execution_count": 1,
   "metadata": {},
   "outputs": [],
   "source": [
    "# !for i in 'seq 1 100'; do tail -100 stocks.xlsx >> stocks.xlsx; done"
   ]
  },
  {
   "cell_type": "code",
   "execution_count": 2,
   "metadata": {},
   "outputs": [
    {
     "output_type": "stream",
     "name": "stdout",
     "text": [
      "Overwriting utils.py\n"
     ]
    }
   ],
   "source": [
    "%%writefile utils.py \n",
    "\n",
    "import yaml\n",
    "import gzip\n",
    "\n",
    "# READ FILE USING YAML \n",
    "def read_yaml(path):\n",
    "    \n",
    "    with open(path, 'r') as data: \n",
    "        try:\n",
    "            return yaml.safe_load(data)\n",
    "        except:\n",
    "            print(\"Something went wrong with loading the data.\")\n",
    "\n",
    "# CLEAN THE COLUMN NAMES \n",
    "def clean_col_names(df):\n",
    "\n",
    "    df.columns = df.columns.str.lower()\n",
    "    df.columns = df.columns.str.replace('[%\\W]', '', regex= True)\n",
    "\n",
    "# RETURN DIFFERENCE IN COLUMNS \n",
    "def col_dif(df, conf_table):\n",
    "\n",
    "    df_cols = list(df.columns)\n",
    "    ct_cols = conf_table[\"columns\"]\n",
    "    missing_from_df = list(set(ct_cols).difference(df_cols))\n",
    "    missing_from_ct = list(set(df_cols).difference(ct_cols))\n",
    "    \n",
    "    return df_cols, missing_from_df, ct_cols, missing_from_ct\n",
    "\n",
    "# CHECKS FOR THE SAME NUMBER OF COLUMNS  \n",
    "def col_val(df, conf_table):\n",
    "\n",
    "    df_cols = list(df.columns)\n",
    "    ct_cols = list(conf_table[\"columns\"])\n",
    "    df_cols_count = len(df_cols)\n",
    "    ct_cols_count = conf_table[\"num_columns\"]\n",
    "\n",
    "    if df_cols == ct_cols:\n",
    "        print(\"Validation test: PASS\")\n",
    "        return 1\n",
    "    else: \n",
    "        print(f\"Incoming data consists of {df_cols_count} columns.\")\n",
    "        print(f\"YAML file consists of {ct_cols_count} columns.\")\n",
    "        print(\"The listed columns are not in the incoming data: \\n{}\".format(list(set(ct_cols).difference(df_cols))))\n",
    "        print(\"The listed columns are not in the YAML file: \\n{}\".format(list(set(df_cols).difference(ct_cols))))\n",
    "        return 0 \n",
    "\n",
    "# WRITE TE FILE IN PUIPE SEPARATED TEXT FILE IN GZ FORMAT\n",
    "def write_file(df):\n",
    "\n",
    "    df.to_csv(\n",
    "        \"stocks.csv.gz\",\n",
    "        index= False,\n",
    "        sep= \"|\",\n",
    "        compression= \"gzip\"\n",
    "    )\n",
    "\n",
    "# SUMMARY OF THE DATA\n",
    "def summary(conf_table):\n",
    "\n",
    "    print(\"The file name is {}\".format(conf_table[\"path\"]))\n",
    "    print(\"The delimiter used is '{}'\".format(conf_table[\"delimiter\"]))\n",
    "    print(\"The number of columns in the data is {}\".format(conf_table[\"num_columns\"]))\n",
    "    print(\"The data is 2GB in size.\")\n",
    "    print(\"The columns for the data are: {}\".format(conf_table[\"columns\"]))\n",
    "\n",
    "# DISPLAY THE RESULTS\n",
    "def result(col_val, df, conf_table):\n",
    "\n",
    "    if col_val == 1: \n",
    "        # write the file in pip separated text file\n",
    "        write_file(df)\n",
    "        # summary of the file \n",
    "        summary(conf_table)\n",
    "    else: \n",
    "        df_cols, missing_from_df, ct_cols, missing_from_ct = col_dif(df, conf_table)\n",
    "        print(\"It seems that the incoming data containing the following columns: {} \\nis missing {} \".format(df_cols,missing_from_df))\n",
    "        print(\"It seems that the YAML file containing the following columns: {} \\nis missing {} \".format(ct_cols, missing_from_ct))"
   ]
  },
  {
   "source": [
    "## Reading the data using Pandas, Dask, csv modules in python "
   ],
   "cell_type": "markdown",
   "metadata": {}
  },
  {
   "cell_type": "code",
   "execution_count": 3,
   "metadata": {},
   "outputs": [],
   "source": [
    "import pandas as pd \n",
    "import dask.dataframe \n",
    "import csv"
   ]
  },
  {
   "cell_type": "code",
   "execution_count": 4,
   "metadata": {},
   "outputs": [],
   "source": [
    "# using pandas \n",
    "pd_stocks = pd.read_csv(\"stocks.csv\")"
   ]
  },
  {
   "cell_type": "code",
   "execution_count": 5,
   "metadata": {},
   "outputs": [
    {
     "output_type": "execute_result",
     "data": {
      "text/plain": [
       "  Exchange Country Symbol                 Company Name  Return on Equity %  \\\n",
       "0              USA     AB  Alliancebernstein Holding LP             87.00%   \n",
       "1              USA    ABR        Arbor Realty Trust Inc             82.00%   \n",
       "\n",
       "  Price / Earnings Ratio % Dividend Yield %  \n",
       "0                   30.00%              98%  \n",
       "1                   31.00%              96%  "
      ],
      "text/html": "<div>\n<style scoped>\n    .dataframe tbody tr th:only-of-type {\n        vertical-align: middle;\n    }\n\n    .dataframe tbody tr th {\n        vertical-align: top;\n    }\n\n    .dataframe thead th {\n        text-align: right;\n    }\n</style>\n<table border=\"1\" class=\"dataframe\">\n  <thead>\n    <tr style=\"text-align: right;\">\n      <th></th>\n      <th>Exchange Country</th>\n      <th>Symbol</th>\n      <th>Company Name</th>\n      <th>Return on Equity %</th>\n      <th>Price / Earnings Ratio %</th>\n      <th>Dividend Yield %</th>\n    </tr>\n  </thead>\n  <tbody>\n    <tr>\n      <th>0</th>\n      <td>USA</td>\n      <td>AB</td>\n      <td>Alliancebernstein Holding LP</td>\n      <td>87.00%</td>\n      <td>30.00%</td>\n      <td>98%</td>\n    </tr>\n    <tr>\n      <th>1</th>\n      <td>USA</td>\n      <td>ABR</td>\n      <td>Arbor Realty Trust Inc</td>\n      <td>82.00%</td>\n      <td>31.00%</td>\n      <td>96%</td>\n    </tr>\n  </tbody>\n</table>\n</div>"
     },
     "metadata": {},
     "execution_count": 5
    }
   ],
   "source": [
    "pd_stocks.head(2)"
   ]
  },
  {
   "cell_type": "code",
   "execution_count": 6,
   "metadata": {},
   "outputs": [],
   "source": [
    "# using Dask \n",
    "dask_stocks = dask.dataframe.read_csv(\"stocks.csv\")"
   ]
  },
  {
   "cell_type": "code",
   "execution_count": 7,
   "metadata": {},
   "outputs": [
    {
     "output_type": "execute_result",
     "data": {
      "text/plain": [
       "  Exchange Country Symbol                 Company Name  Return on Equity %  \\\n",
       "0              USA     AB  Alliancebernstein Holding LP             87.00%   \n",
       "1              USA    ABR        Arbor Realty Trust Inc             82.00%   \n",
       "\n",
       "  Price / Earnings Ratio % Dividend Yield %  \n",
       "0                   30.00%              98%  \n",
       "1                   31.00%              96%  "
      ],
      "text/html": "<div>\n<style scoped>\n    .dataframe tbody tr th:only-of-type {\n        vertical-align: middle;\n    }\n\n    .dataframe tbody tr th {\n        vertical-align: top;\n    }\n\n    .dataframe thead th {\n        text-align: right;\n    }\n</style>\n<table border=\"1\" class=\"dataframe\">\n  <thead>\n    <tr style=\"text-align: right;\">\n      <th></th>\n      <th>Exchange Country</th>\n      <th>Symbol</th>\n      <th>Company Name</th>\n      <th>Return on Equity %</th>\n      <th>Price / Earnings Ratio %</th>\n      <th>Dividend Yield %</th>\n    </tr>\n  </thead>\n  <tbody>\n    <tr>\n      <th>0</th>\n      <td>USA</td>\n      <td>AB</td>\n      <td>Alliancebernstein Holding LP</td>\n      <td>87.00%</td>\n      <td>30.00%</td>\n      <td>98%</td>\n    </tr>\n    <tr>\n      <th>1</th>\n      <td>USA</td>\n      <td>ABR</td>\n      <td>Arbor Realty Trust Inc</td>\n      <td>82.00%</td>\n      <td>31.00%</td>\n      <td>96%</td>\n    </tr>\n  </tbody>\n</table>\n</div>"
     },
     "metadata": {},
     "execution_count": 7
    }
   ],
   "source": [
    "dask_stocks.head(2)"
   ]
  },
  {
   "cell_type": "code",
   "execution_count": 8,
   "metadata": {
    "tags": []
   },
   "outputs": [
    {
     "output_type": "stream",
     "name": "stdout",
     "text": [
      "﻿Exchange Country, Symbol, Company Name , Return on Equity %, Price / Earnings Ratio %, Dividend Yield %\nUSA, AB, Alliancebernstein Holding LP, 87.00%, 30.00%, 98%\nUSA, ABR, Arbor Realty Trust Inc, 82.00%, 31.00%, 96%\nUSA, ABR.PR.A, Arbor Realty Trust Inc, 82.00%, 31.00%, 95%\nUSA, ABR.PR.B, Arbor Realty Trust Inc, 82.00%, 31.00%, 94%\nUSA, ABR.PR.C, Arbor Realty Trust Inc, 82.00%, 31.00%, 96%\nUSA, ACAZF, Acadian Timber Corp, 66.00%, 32.00%, 86%\nUSA, ACCO, ACCO Brands Corporation, 68.00%, 27.00%, 61%\nUSA, ACI, Albertsons Companies Inc, 98.00%, 14.00%, 44%\nUSA, ACNB, ACNB Corporation, 68.00%, 27.00%, 67%\nUSA, ACV, Virtus Allianzgi Divrsfd Inc & Conrb Fnd, 97.00%, 2.00%, 87%\nCAN, ADN, Acadian Timber Corp, 66.00%, 32.00%, 86%\nUSA, ADRNY, Koninklijke Ahold Delhaize NV (ADR), 74.00%, 40.00%, 67%\nCAN, ADW.A, Andrew Peller Ltd, 79.00%, 11.00%, 44%\nUSA, ADWPF, Andrew Peller Ltd, 79.00%, 11.00%, 46%\nUSA, AEF, Aberdeen Emerging Mrkts Eqty Incm Fd Inc, 77.00%, 12.00%, 51%\nUSA, AEGXF, Aecon Group Inc, 73.00%, 37.00%, 67%\nUSA, AFL, AFLAC Incorporated, 84.00%, 11.00%, 53%\nCAN, AGF.B, AGF Management Limited, 87.00%, 3.00%, 74%\nUSA, AGFMF, AGF Management Limited, 87.00%, 3.00%, 74%\nUSA, AGM, Federal Agricultural Mortgage Corp., 83.00%, 22.00%, 68%\nUSA, AGM.A, Federal Agricultural Mortgage Corp., 83.00%, 22.00%, 73%\nUSA, AGM.PR.D, Federal Agricultural Mortgage Corp., 83.00%, 22.00%, 83%\nUSA, AGM.PR.E, Federal Agricultural Mortgage Corp., 83.00%, 22.00%, 83%\nUSA, AGMJF, Algoma Central Corporation, 66.00%, 35.00%, 72%\nUSA, AGO, Assured Guaranty Ltd., 59.00%, 17.00%, 43%\nUSA, AGQPF, Algonquin Power & Utilities Corp, 87.00%, 23.00%, 83%\nCAN, AI, Atrium Mortgage Investment Corp, 69.00%, 30.00%, 91%\nUSA, AILLP, Ameren Illinois Co, 68.00%, 8.00%, 73%\nUSA, AJX, Great Ajax Corp, 61.00%, 22.00%, 87%\nUSA, AKO.A, Embotelladora Andina SA (ADR), 82.00%, 29.00%, 86%\nUSA, AKO.B, Embotelladora Andina SA (ADR), 82.00%, 29.00%, 87%\nUSA, AL.PR.A, Air Lease Corp, 69.00%, 20.00%, 86%\nCAN, ALA, Altagas Ltd, 68.00%, 23.00%, 79%\nCAN, ALA.PR.U, Altagas Ltd, 68.00%, 23.00%, 87%\nCAN, ALC, Algoma Central Corporation, 66.00%, 35.00%, 72%\nUSA, ALCO, \"Alico,  Inc.\", 80.00%, 12.00%, 53%\nUSA, ALL, Allstate Corp, 90.00%, 9.00%, 57%\nUSA, ALRS, Alerus Financial Corp, 82.00%, 23.00%, 43%\nUSA, ALTGF, Altagas Ltd, 68.00%, 23.00%, 87%\nUSA, AMAL, Amalgamated Bank, 70.00%, 21.00%, 41%\nUSA, AMEN, \"AMEN Properties,  Inc\", 98.00%, 2.00%, 96%\nUSA, AMIVF, Atrium Mortgage Investment Corp, 69.00%, 30.00%, 91%\nUSA, AMNB, American National BankShares Inc, 70.00%, 22.00%, 65%\nUSA, ANAT, American National Group Inc, 66.00%, 8.00%, 60%\nCAN, AP.UN, Allied Properties Real Estate Investment, 68.00%, 18.00%, 72%\nUSA, APAM, Artisan Partners Asset Management Inc, 100.00%, 35.00%, 93%\nCAN, APR.UN, Automotive Properties Real Est Invt TR, 64.00%, 3.00%, 91%\nUSA, APYRF, Allied Properties Real Estate Investment, 68.00%, 18.00%, 72%\nCAN, AQN, Algonquin Power & Utilities Corp, 87.00%, 23.00%, 70%\nUSA, AQN, Algonquin Power & Utilities Corp, 87.00%, 23.00%, 70%\nCAN, AQN.PR.A, Algonquin Power & Utilities Corp, 87.00%, 23.00%, 83%\nCAN, AQN.PR.D, Algonquin Power & Utilities Corp, 87.00%, 23.00%, 83%\nUSA, ARC, ARC Document Solutions Inc, 55.00%, 32.00%, 69%\nUSA, ARCC, Ares Capital Corporation, 63.00%, 36.00%, 96%\nCAN, ARE, Aecon Group Inc, 73.00%, 37.00%, 67%\nUSA, ARMZF, Aura Minerals Inc, 94.00%, 22.00%, 95%\nUSA, AROW, Arrow Financial Corporation, 80.00%, 25.00%, 62%\nUSA, ASB, Associated Banc Corp, 66.00%, 21.00%, 65%\nUSA, ASRV, \"AmeriServ Financial,  Inc.\", 56.00%, 32.00%, 53%\nUSA, ATGFF, Altagas Ltd, 68.00%, 23.00%, 79%\nUSA, ATLO, Ames National Corporation, 72.00%, 24.00%, 71%\nUSA, AU, AngloGold Ashanti Limited (ADR), 95.00%, 15.00%, 55%\nUSA, AUBN, Auburn National Bancorporation Inc, 65.00%, 40.00%, 57%\nUSA, BANR, Banner Corporation, 65.00%, 36.00%, 61%\nUSA, BANX, StoneCastle Financial Corp, 59.00%, 37.00%, 94%\nUSA, BBY, Best Buy Co Inc, 98.00%, 39.00%, 50%\nUSA, BCAUY, Brilliance China Automotive Hldg. (ADR), 90.00%, 4.00%, 63%\nUSA, BCBP, \"BCB Bancorp,  Inc.\", 67.00%, 22.00%, 74%\nCAN, BCF, Builders Capital Mortgage Corp, 62.00%, 33.00%, 97%\nUSA, BCV, Bancroft Fund Ltd., 87.00%, 8.00%, 74%\nUSA, BCV.PR.A, Bancroft Fund Ltd., 87.00%, 8.00%, 83%\nUSA, BDN, Brandywine Realty Trust, 87.00%, 10.00%, 86%\nCAN, BDT, Bird Construction Inc, 90.00%, 23.00%, 75%\nUSA, BFIN, BankFinancial Corporation, 58.00%, 37.00%, 71%\nUSA, BG, Bunge Ltd, 90.00%, 18.00%, 54%\nUSA, BGEPF, Bunge Ltd, 90.00%, 18.00%, 74%\nUSA, BGFV, Big 5 Sporting Goods Corporation, 94.00%, 8.00%, 68%\nUSA, BGS, \"B&G Foods,  Inc.\", 85.00%, 30.00%, 90%\nUSA, BHB, Bar Harbor Bankshares, 68.00%, 29.00%, 59%\nUSA, BHK, BlackRock Core Bond Trust, 79.00%, 12.00%, 86%\nUSA, BIRDF, Bird Construction Inc, 90.00%, 23.00%, 75%\nUSA, BIT, Blackrock Multi-Sector Income Trust, 75.00%, 17.00%, 96%\nUSA, BK, Bank of New York Mellon Corp, 69.00%, 25.00%, 54%\nUSA, BKE, Buckle Inc, 96.00%, 35.00%, 62%\nUSA, BKEAY, Bank of East Asia Ltd (ADR), 51.00%, 39.00%, 50%\nUSA, BKGM, Bankguam Holding Co, 64.00%, 15.00%, 67%\nUSA, BKSC, Bank of South Carolina, 78.00%, 40.00%, 65%\nCAN, BL.UN, Global Innovation Dividend Fund, 97.00%, 3.00%, 56%\nUSA, BLX, Foreign Trade Bank of Latin America Inc, 61.00%, 15.00%, 91%\nUSA, BMO, Bank of Montreal (USA), 75.00%, 28.00%, 69%\nCAN, BMO, Bank of Montreal, 75.00%, 28.00%, 69%\nUSA, BMRC, Bank of Marin Bancorp, 69.00%, 38.00%, 51%\nUSA, BNS, Bank of Nova Scotia, 74.00%, 30.00%, 78%\nCAN, BNS, Bank of Nova Scotia, 74.00%, 31.00%, 78%\nUSA, BOKF, BOK Financial Corporation, 69.00%, 30.00%, 50%\nUSA, BORT, Botetourt Bankshares Inc, 70.00%, 18.00%, 55%\nUSA, BOTJ, \"Bank of the James Financial Group,  Inc.\", 66.00%, 26.00%, 41%\nUSA, BPMP, BP Midstream Partners LP, 100.00%, 12.00%, 99%\nUSA, BPOP, Popular Inc, 68.00%, 23.00%, 48%\nUSA, BPOPO, Popular Inc, 68.00%, 23.00%, 88%\nUSA, BRBS, Blue Ridge Bankshares Inc, 87.00%, 10.00%, 56%\nUSA, BRMK, Broadmark Realty Capital Inc, 66.00%, 34.00%, 95%\nCAN, BRN.PR.A, Brookfield Investments Corp, 83.00%, 6.00%, 77%\nUSA, BSAC, Banco Santander-Chile (ADR), 83.00%, 35.00%, 67%\nUSA, BSBR, Banco Santander Brasil SA (ADR), 81.00%, 19.00%, 59%\nUSA, BSRR, Sierra Bancorp, 75.00%, 21.00%, 63%\nUSA, BST, BlackRock Science & Technology Trust, 98.00%, 2.00%, 77%\nUSA, BSTZ, Blackrock Science and Technology TrustII, 95.00%, 7.00%, 83%\nUSA, BSVN, Bank7 Corp, 88.00%, 13.00%, 54%\nUSA, BTG, B2Gold Corp., 94.00%, 12.00%, 65%\nUSA, BTI, British American Tobacco PLC (ADR), 73.00%, 18.00%, 94%\nCAN, BTO, B2Gold Corp., 94.00%, 12.00%, 65%\nUSA, BURCA, Burnham Holdings Inc, 65.00%, 15.00%, 90%\nUSA, BURCP, Burnham Holdings Inc, 65.00%, 15.00%, 85%\nUSA, BUSE, First Busey Corporation, 67.00%, 28.00%, 69%\nUSA, BXS, Bancorpsouth Bank, 68.00%, 30.00%, 53%\nUSA, BXS.PR.A, Bancorpsouth Bank, 68.00%, 30.00%, 82%\nUSA, C, Citigroup Inc, 59.00%, 33.00%, 58%\nUSA, CAC, Camden National Corporation, 78.00%, 23.00%, 61%\nUSA, CADNF, Cascades Inc, 78.00%, 9.00%, 48%\nUSA, CAG, Conagra Brands Inc, 83.00%, 33.00%, 60%\nUSA, CAH, Cardinal Health Inc, 100.00%, 25.00%, 64%\nUSA, CAI, CAI International Inc, 78.00%, 20.00%, 56%\nUSA, CAI.PR.A, CAI International Inc, 78.00%, 20.00%, 96%\nUSA, CAI.PR.B, CAI International Inc, 78.00%, 20.00%, 96%\nUSA, CAPL, Crossamerica Partners LP, 100.00%, 8.00%, 99%\nCAN, CAR.UN, Canadian Apartment Properties REIT, 74.00%, 18.00%, 52%\nCAN, CAS, Cascades Inc, 78.00%, 9.00%, 48%\nUSA, CATC, Cambridge Bancorp, 71.00%, 38.00%, 56%\nUSA, CATY, Cathay General Bancorp, 72.00%, 30.00%, 61%\nUSA, CBAN, Colony Bankcorp Inc, 69.00%, 24.00%, 56%\nUSA, CBD, Companhia Brasileira de Distribuicao, 70.00%, 16.00%, 47%\nUSA, CBKM, \"Consumers Bancorp,  Inc.\", 79.00%, 11.00%, 61%\nUSA, CBWBF, Canadian Western Bank, 71.00%, 20.00%, 68%\nUSA, CBYDF, Corby Spirit and Wine Ltd, 87.00%, 35.00%, 79%\nCAN, CCA, Cogeco Communications Inc, 87.00%, 30.00%, 47%\nUSA, CCAP, Crescent Capital BDC Inc, 76.00%, 21.00%, 96%\nUSA, CCBG, \"Capital City Bank Group,  Inc.\", 71.00%, 28.00%, 51%\nUSA, CCD, Calamos Dynamic Convertible & Incm Fd, 95.00%, 5.00%, 93%\nUSA, CCFN, CCFNB Bancorp Inc, 68.00%, 19.00%, 69%\nUSA, CCNE, CNB Financial Corp, 72.00%, 24.00%, 58%\nUSA, CCORF, Canaccord Genuity Group Inc, 90.00%, 16.00%, 47%\nCAN, CCS.PR.C, Co-Operators General Insurance Co., 85.00%, 2.00%, 81%\nUSA, CDNAF, Canadian Tire Corporation Limited, 87.00%, 33.00%, 53%\nUSA, CDNTF, Canadian Tire Corporation Limited, 87.00%, 33.00%, 46%\nUSA, CDPYF, Canadian Apartment Properties REIT, 74.00%, 18.00%, 52%\nUSA, CEFC, Commercial Natl Finl Corp (Michigan), 75.00%, 15.00%, 84%\nCAN, CERV, Cervus Equipment Corp, 74.00%, 18.00%, 57%\nCAN, CF, Canaccord Genuity Group Inc, 90.00%, 16.00%, 47%\nUSA, CFFI, C&F Financial Corp, 79.00%, 9.00%, 69%\nUSA, CGEAF, Cogeco Communications Inc, 87.00%, 30.00%, 44%\nUSA, CGECF, Cogeco Inc., 87.00%, 21.00%, 50%\nCAN, CGI, Canadian General Investments Ltd, 95.00%, 2.00%, 52%\nCAN, CGI.PR.D, Canadian General Investments Ltd, 95.00%, 2.00%, 69%\nCAN, CGO, Cogeco Inc., 87.00%, 21.00%, 48%\nUSA, CGRIF, Canadian General Investments Ltd, 95.00%, 2.00%, 50%\nUSA, CHBH, \"Croghan Bancshares,  Inc.\", 72.00%, 23.00%, 72%\nUSA, CHCO, City Holding Company, 80.00%, 31.00%, 59%\nUSA, CHKR, Chesapeake Granite Wash Trust, 89.00%, 4.00%, 100%\nUSA, CHMG, Chemung Financial Corp., 73.00%, 20.00%, 51%\nUSA, CHY, Calamos Convertible & Hi Income Fund, 93.00%, 6.00%, 94%\nUSA, CIBN, Community Investors Bancorp Inc., 74.00%, 15.00%, 48%\nUSA, CIG.C, Companhia Energetica de Minas Gers CEMIG, 86.00%, 8.00%, 85%\nUSA, CIK, Credit Suisse Asset Management In FndInc, 61.00%, 37.00%, 95%\nUSA, CINF, Cincinnati Financial Corporation, 77.00%, 29.00%, 51%\nUSA, CIVB, Civista Bancshares Inc, 71.00%, 21.00%, 45%\nCAN, CIX, CI Financial Corp, 95.00%, 13.00%, 70%\nUSA, CIXX, CI Financial Corp, 95.00%, 13.00%, 70%\nUSA, CIZN, Citizens Holding Company, 61.00%, 34.00%, 80%\nUSA, CLDB, CORTLAND BANCORP INC, 75.00%, 21.00%, 53%\nUSA, CLPHY, CLP Holdings Limited (ADR), 73.00%, 37.00%, 85%\nUSA, CM, Canadian Imperial Bank of Commerce (USA), 76.00%, 28.00%, 78%\nCAN, CM, Canadian Imperial Bank of Commerce, 76.00%, 28.00%, 78%\nUSA, CMCL, Caledonia Mining Corporation Plc (USA), 86.00%, 11.00%, 66%\nUSA, CMS.PR.B, Consumers Energy Co, 72.00%, 23.00%, 72%\nUSA, CMTV, Community Bancorp, 84.00%, 17.00%, 76%\nUSA, CNA, Cna Financial Corp, 59.00%, 40.00%, 64%\nUSA, CNAF, CommercialNatlFinlCorp(Pennsylvania), 69.00%, 16.00%, 84%\nUSA, CNBB, Cnb Community Bancorp Inc, 83.00%, 12.00%, 58%\nUSA, CNLPL, Connecticut Light and Power Co, 72.00%, 1.00%, 84%\nUSA, CNLTL, Connecticut Light and Power Co, 72.00%, 1.00%, 73%\nUSA, CNO, CNO Financial Group Inc, 58.00%, 26.00%, 41%\nCAN, CNU, CNOOC Ltd (ADR), 60.00%, 30.00%, 98%\nUSA, COFS, Choiceone Financial Services Inc, 65.00%, 21.00%, 70%\nUSA, CPKF, Chesapeake Financial Shares Inc, 74.00%, 17.00%, 46%\nUSA, CRBBF, Corby Spirit and Wine Ltd, 87.00%, 35.00%, 81%\nUSA, CRD.A, Crawford & Company, 86.00%, 40.00%, 52%\nUSA, CRD.B, Crawford & Company, 86.00%, 40.00%, 53%\nUSA, CRT, Cross Timbers Royalty Trust, 99.00%, 19.00%, 93%\nUSA, CRWS, \"Crown Crafts,  Inc.\", 87.00%, 19.00%, 73%\nUSA, CS, Credit Suisse Group AG (ADR), 61.00%, 15.00%, 58%\nUSA, CSBB, CSB Bancorp Inc (Ohio), 77.00%, 16.00%, 63%\nUSA, CSHX, Cashmere Valley Bank, 77.00%, 16.00%, 66%\nUSA, CSQPF, Cervus Equipment Corp, 74.00%, 18.00%, 57%\nCAN, CSW.A, Corby Spirit and Wine Ltd, 87.00%, 35.00%, 79%\nCAN, CSW.B, Corby Spirit and Wine Ltd, 87.00%, 35.00%, 80%\nUSA, CTA.PR.A, E I Du Pont De Nemours And Co, 52.00%, 1.00%, 71%\nUSA, CTA.PR.B, E I Du Pont De Nemours And Co, 52.00%, 1.00%, 73%\nUSA, CTBI, \"Community Trust Bancorp,  Inc.\", 71.00%, 27.00%, 66%\nCAN, CTC, Canadian Tire Corporation Limited, 87.00%, 33.00%, 47%\nCAN, CTC.A, Canadian Tire Corporation Limited, 87.00%, 33.00%, 53%\nCAN, CTF.UN, Citadel Income Fund, 61.00%, 25.00%, 69%\nUSA, CTO, CTO Realty Growth Inc, 93.00%, 4.00%, 94%\nUSA, CVBF, CVB Financial Corp., 69.00%, 37.00%, 64%\nUSA, CVCY, Central Valley Community Bancorp, 69.00%, 23.00%, 49%\nUSA, CVS, CVS Health Corp, 75.00%, 27.00%, 56%\nCAN, CWB, Canadian Western Bank, 71.00%, 20.00%, 68%\nCAN, CWB.PR.B, Canadian Western Bank, 71.00%, 20.00%, 78%\nCAN, CWB.PR.C, Canadian Western Bank, 71.00%, 20.00%, 88%\nCAN, CWB.PR.D, Canadian Western Bank, 71.00%, 20.00%, 85%\nUSA, CWGRP, Cowen Inc, 92.00%, 6.00%, 70%\nCAN, CWX, CanWel Building Materials Group Ltd, 87.00%, 23.00%, 82%\nUSA, CWXZF, CanWel Building Materials Group Ltd, 87.00%, 23.00%, 82%\nUSA, CZBT, Citizens Bancorp of Virginia Inc, 68.00%, 33.00%, 71%\nUSA, CZFS, Citizens Financial Services Inc, 83.00%, 14.00%, 62%\nUSA, CZNC, Citizens & Northern Corporation, 64.00%, 40.00%, 77%\nCAN, D.UN, Dream Office Real Estate Investment Trst, 78.00%, 10.00%, 78%\nUSA, DCOM, Dime Community Bancshares Inc (New York), 69.00%, 29.00%, 61%\nUSA, DFP, Flaherty & Crumrine Dynmc Prf&Inm Fd Inc, 67.00%, 30.00%, 90%\nUSA, DGICA, Donegal Group Inc., 75.00%, 13.00%, 71%\nUSA, DGICB, Donegal Group Inc., 75.00%, 13.00%, 68%\nUSA, DGX, Quest Diagnostics Inc, 92.00%, 24.00%, 42%\nUSA, DHIL, \"Diamond Hill Investment Group,  Inc.\", 90.00%, 27.00%, 52%\nUSA, DHT, DHT Holdings Inc, 93.00%, 3.00%, 67%\nUSA, DIMC, Dimeco Inc, 72.00%, 26.00%, 70%\nCAN, DIR.UN, Dream Industrial Real Estate Invest Trst, 77.00%, 23.00%, 80%\nCAN, DNG, Dynacor Gold Mines Inc., 64.00%, 36.00%, 55%\nUSA, DNGDF, Dynacor Gold Mines Inc., 64.00%, 36.00%, 55%\nUSA, DOX, Amdocs Limited, 88.00%, 30.00%, 42%\nUSA, DRD, DRDGOLD Ltd. (ADR), 96.00%, 16.00%, 95%\nUSA, DRETF, Dream Office Real Estate Investment Trst, 78.00%, 10.00%, 78%\nUSA, DREUF, Dream Industrial Real Estate Invest Trst, 77.00%, 23.00%, 81%\nUSA, DVD, \"Dover Motorsports,  Inc.\", 76.00%, 17.00%, 65%\nUSA, DX, Dynex Capital Inc, 96.00%, 2.00%, 95%\nCAN, DXT, Dexterra Group Inc, 95.00%, 4.00%, 82%\nUSA, EARN, Ellington Residential Mortgage REIT, 79.00%, 10.00%, 98%\nUSA, EBSB, Meridian Bancorp Inc (MARYLAND), 69.00%, 29.00%, 48%\nUSA, EBTC, \"Enterprise Bancorp,  Inc\", 73.00%, 25.00%, 48%\nUSA, ECF, Ellsworth Growth and Income Fund Ltd, 90.00%, 6.00%, 69%\nUSA, ECF.PR.A, Ellsworth Growth and Income Fund Ltd, 90.00%, 6.00%, 81%\nUSA, EDPFY, \"EDP-Energias de Portugal,  S.A (ADR)\", 95.00%, 28.00%, 65%\nUSA, EDUC, Educational Development Corporation, 95.00%, 27.00%, 49%\nUSA, EFRTF, Nexus Real Estate Investment Trust, 79.00%, 11.00%, 94%\nUSA, EFSI, Eagle Financial Services Inc, 76.00%, 18.00%, 64%\nUSA, EHMEF, goeasy Ltd, 96.00%, 35.00%, 44%\nUSA, EIG, \"Employers Holdings,  Inc.\", 73.00%, 16.00%, 54%\nCAN, ELC, Elysee Development Corp, 92.00%, 5.00%, 96%\nUSA, ELP, Companhia Paranaense de Energia (ADR), 90.00%, 5.00%, 100%\nUSA, ELUXY, Electrolux AB (ADR), 89.00%, 39.00%, 87%\nCAN, EMA, Emera Inc, 78.00%, 32.00%, 76%\nCAN, EMA.PR.A, Emera Inc, 78.00%, 32.00%, 65%\nCAN, EMA.PR.C, Emera Inc, 78.00%, 32.00%, 83%\nUSA, EMCF, Emclaire Financial Corp, 66.00%, 22.00%, 75%\nUSA, EMD, Western Asset Emerging Mrkts Dbt Fnd Inc, 58.00%, 39.00%, 95%\nUSA, EMF, Templeton Emerging Markets, 84.00%, 10.00%, 62%\nCAN, EML.PR.A, Empire Life Insurance Co, 68.00%, 1.00%, 86%\nUSA, EMRAF, Emera Inc, 78.00%, 32.00%, 76%\nUSA, ENBP, ENB Financial Corp., 73.00%, 17.00%, 60%\nUSA, ENIA, Enel Americas SA (ADR), 70.00%, 34.00%, 86%\nUSA, ENO, Entergy New Orleans LLC, 70.00%, 4.00%, 84%\nUSA, EOI, Eaton Vance Enhanced Equity Income Fund, 76.00%, 18.00%, 88%\nUSA, EOS, Eaton Vance Enhanced Equity Incm. Fd. II, 93.00%, 5.00%, 83%\nUSA, EPD, Enterprise Products Partners L.P., 84.00%, 27.00%, 95%\nUSA, EQC.PR.D, Equity Commonwealth, 82.00%, 12.00%, 81%\nCAN, ERE.UN, European Residential REIT, 97.00%, 6.00%, 70%\nUSA, ERRAF, Emera Inc, 78.00%, 32.00%, 83%\nUSA, ESBK, Elmira Savings Bank, 68.00%, 22.00%, 75%\nUSA, ESCA, \"Escalade,  Inc.\", 89.00%, 22.00%, 56%\nUSA, ESSA, \"ESSA Bancorp,  Inc.\", 67.00%, 18.00%, 61%\nUSA, ESXB, Community Bankers Trust Corp, 72.00%, 24.00%, 58%\nUSA, ETJ, Eaton Vance Risk-Mngd Dvrsfd Eqty Inc Fd, 86.00%, 8.00%, 96%\nUSA, ETR, Entergy Corporation, 80.00%, 32.00%, 69%\nUSA, ETRN, Equitrans Midstream Corp, 88.00%, 11.00%, 94%\nUSA, ETV, Eaton Vance Tax-Mngd Buy-Wrt Opport Fund, 67.00%, 29.00%, 96%\nUSA, EVBN, Evans Bancorp Inc., 64.00%, 36.00%, 67%\nUSA, EVN, Eaton Vance Municipal Income Trust, 62.00%, 33.00%, 73%\nUSA, EXCOF, Exco Technologies Limited, 70.00%, 27.00%, 71%\nCAN, EXE, Extendicare Inc, 96.00%, 38.00%, 88%\nUSA, EXETF, Extendicare Inc (USA), 96.00%, 38.00%, 88%\nUSA, EXSR, Exchange Bank, 77.00%, 12.00%, 60%\nUSA, FAF, First American Financial Corp, 84.00%, 16.00%, 61%\nUSA, FANH, Fanhua Inc (ADR), 82.00%, 38.00%, 99%\nUSA, FBIZ, First Business Financial Services Inc, 68.00%, 25.00%, 60%\nUSA, FBNC, First Bancorp (North Carolina), 71.00%, 32.00%, 41%\nCAN, FC, Firm Capital Mortgage Investment Corp, 67.00%, 33.00%, 91%\nCAN, FCA.U, Firm Capital Apartment REIT, 67.00%, 15.00%, 68%\nCAN, FCA.UN, Firm Capital Apartment REIT, 67.00%, 15.00%, 68%\nUSA, FCAFF, Firm Capital Apartment REIT, 67.00%, 15.00%, 71%\nUSA, FCAP, \"First Capital,  Inc.\", 72.00%, 33.00%, 48%\nUSA, FCBC, First Community Bankshares Inc, 68.00%, 30.00%, 67%\nUSA, FCBP, First Choice Bancorp (California), 75.00%, 17.00%, 73%\nUSA, FCCO, First Community Corp (South Carolina), 67.00%, 29.00%, 54%\nUSA, FCCY, 1st Constitution Bancorp, 73.00%, 18.00%, 42%\nCAN, FCD.UN, Firm Capital Property Trust, 64.00%, 23.00%, 95%\nUSA, FCMGF, Firm Capital Mortgage Investment Corp, 67.00%, 33.00%, 91%\nCAN, FCS.UN, Faircourt Split Trust(NDA), 73.00%, 13.00%, 100%\nCAN, FDI, Findev Inc, 74.00%, 11.00%, 87%\nUSA, FDUS, Fidus Investment Corp, 66.00%, 27.00%, 93%\nUSA, FFBC, First Financial Bancorp, 64.00%, 32.00%, 70%\nUSA, FFIC, Flushing Financial Corporation, 60.00%, 39.00%, 71%\nUSA, FFMH, First Farmers & Merchants Corp, 71.00%, 17.00%, 55%\nUSA, FFNW, \"FIRST FINANCIAL NORTHWEST,  INC.\", 59.00%, 34.00%, 63%\nUSA, FFWC, FFW Corporation, 79.00%, 11.00%, 51%\nUSA, FGBI, \"First Guaranty Bancshares,  Inc.\", 78.00%, 13.00%, 68%\nCAN, FGX, Faircourt Gold Income Corp., 95.00%, 2.00%, 93%\nUSA, FHI, Federated Hermes Inc, 94.00%, 15.00%, 67%\nUSA, FHN, First Horizon Corp (Tennessee), 81.00%, 19.00%, 67%\nUSA, FIBK, First Interstate Bancsystem Inc, 67.00%, 40.00%, 67%\nUSA, FINV, FinVolution Group - ADR, 92.00%, 8.00%, 56%\nUSA, FISI, \"Financial Institutions,  Inc.\", 68.00%, 26.00%, 68%\nUSA, FKYS, First Keystone Corp., 69.00%, 26.00%, 72%\nUSA, FLIC, First of Long Island Corp, 74.00%, 24.00%, 68%\nUSA, FMAO, Farmers & Merchants Bancorp Inc, 68.00%, 27.00%, 58%\nUSA, FMBH, First Mid Bancshares Inc, 68.00%, 34.00%, 51%\nUSA, FMBM, F&M Bank Corp, 72.00%, 20.00%, 69%\nUSA, FMNB, Farmers National Banc Corp, 80.00%, 20.00%, 56%\nCAN, FN, First National Financial Corp, 97.00%, 33.00%, 75%\nCAN, FN.PR.A, First National Financial Corp, 97.00%, 33.00%, 83%\nUSA, FNB, F.N.B. Corp, 60.00%, 32.00%, 70%\nUSA, FNCB, FNCB Bancorp Inc, 75.00%, 15.00%, 66%\nUSA, FNF, Fidelity National Financial Inc, 90.00%, 14.00%, 64%\nUSA, FNLC, First Bancorp Inc, 79.00%, 21.00%, 75%\nUSA, FNLIF, First National Financial Corp, 97.00%, 33.00%, 75%\nUSA, FPAFY, First Pacific Company Ltd. (ADR), 56.00%, 21.00%, 84%\nUSA, FRAF, Franklin Financial Services Corp, 71.00%, 17.00%, 72%\nUSA, FRCGF, Faircourt Gold Income Corp., 95.00%, 2.00%, 93%\nUSA, FRFC, First Robinson Financial Cororation, 82.00%, 21.00%, 50%\nUSA, FRME, First Merchants Corporation, 67.00%, 37.00%, 49%\nUSA, FRMUF, Firm Capital Property Trust, 64.00%, 23.00%, 95%\nCAN, FRO.UN, Fronsac Real Estate Investment Trust, 81.00%, 20.00%, 73%\nUSA, FRST, Primis Financial Corp, 61.00%, 34.00%, 56%\nUSA, FULT, Fulton Financial Corp, 65.00%, 34.00%, 65%\nUSA, FUNC, First United Corp, 75.00%, 13.00%, 67%\nUSA, FXNC, First National Corporation, 76.00%, 17.00%, 55%\nCAN, GBT, BMTC Group Inc, 87.00%, 15.00%, 54%\nUSA, GCBC, Greene County Bancorp Inc, 84.00%, 19.00%, 41%\nUSA, GD, General Dynamics Corporation, 91.00%, 36.00%, 55%\nCAN, GDG.UN, Global Dividend Growers Income Fund, 68.00%, 35.00%, 83%\nCAN, GDL, Goodfellow Inc., 77.00%, 9.00%, 83%\nCAN, GEC.UN, Global Real Estate & E-Commerce DF, 92.00%, 4.00%, 67%\nUSA, GEO, The GEO Group Inc, 78.00%, 7.00%, 100%\nUSA, GFED, \"Guaranty Federal Bancshares,  Inc.\", 67.00%, 33.00%, 53%\nUSA, GFI, Gold Fields Limited (ADR), 91.00%, 22.00%, 64%\nUSA, GGZ, Gabelli Global Small Md Cp Vl Trst, 78.00%, 11.00%, 75%\nUSA, GGZ.PR.A, Gabelli Global Small Md Cp Vl Trst, 78.00%, 11.00%, 83%\nUSA, GHY, PGIM Global High Yield Fund Inc, 64.00%, 27.00%, 96%\nUSA, GILT, Gilat Satellite Networks Ltd., 82.00%, 34.00%, 99%\nUSA, GIS, \"General Mills,  Inc.\", 95.00%, 31.00%, 65%\nUSA, GLOP.PR.A, GasLog Partners LP, 56.00%, 5.00%, 98%\nUSA, GLP, Global Partners LP, 91.00%, 11.00%, 99%\nUSA, GNE, Genie Energy Ltd, 84.00%, 31.00%, 83%\nUSA, GNE.PR.A, Genie Energy Ltd, 84.00%, 31.00%, 92%\nUSA, GNTY, \"Guaranty Bancshares,  Inc.\", 74.00%, 38.00%, 45%\nUSA, GOF, Guggenheim Strategic Opportunities Fund, 73.00%, 29.00%, 99%\nUSA, GRP.U, Granite Real Estate Investment Trust, 78.00%, 20.00%, 70%\nCAN, GRT.UN, Granite Real Estate Investment Trust, 78.00%, 20.00%, 70%\nUSA, GSBC, \"Great Southern Bancorp,  Inc.\", 72.00%, 26.00%, 52%\nUSA, GSBD, Goldman Sachs BDC Inc, 84.00%, 17.00%, 98%\nUSA, GSK, GlaxoSmithKline plc (ADR), 98.00%, 21.00%, 94%\nCAN, GSY, goeasy Ltd, 96.00%, 35.00%, 41%\nUSA, GTPS, Great American Bancorp Inc, 62.00%, 22.00%, 45%\nUSA, GWLIF, Great-West Lifeco Inc, 79.00%, 19.00%, 81%\nUSA, GWLOF, Great-West Lifeco Inc, 79.00%, 19.00%, 85%\nCAN, GWO, Great-West Lifeco Inc, 79.00%, 19.00%, 82%\nCAN, GWO.PR.F, Great-West Lifeco Inc, 79.00%, 19.00%, 85%\nCAN, GWO.PR.I, Great-West Lifeco Inc, 79.00%, 19.00%, 78%\nCAN, H, Hydro One Ltd, 87.00%, 18.00%, 65%\nUSA, HAFC, Hanmi Financial Corp, 65.00%, 31.00%, 43%\nUSA, HAWEL, Hawaiian Electric Co Inc, 67.00%, 2.00%, 73%\nUSA, HBB, Hamilton Beach Brands Holding Co, 97.00%, 18.00%, 45%\nUSA, HBCP, \"Home Bancorp,  Inc.\", 66.00%, 26.00%, 51%\nCAN, HBL.UN, Brand Leaders Income Fund, 64.00%, 30.00%, 88%\nUSA, HBNC, Horizon Bancorp Inc, 73.00%, 23.00%, 58%\nUSA, HBT, HBT Financial Inc, 75.00%, 25.00%, 67%\nUSA, HCBC, \"High Country Bancorp,  Inc.\", 83.00%, 14.00%, 79%\nUSA, HEP, \"Holly Energy Partners,  L.P.\", 98.00%, 23.00%, 93%\nUSA, HESM, Hess Midstream LP, 88.00%, 37.00%, 95%\nUSA, HFBA, HFB Financial Corp (KY), 75.00%, 34.00%, 54%\nUSA, HFBL, Home Federal Bancorp Inc of Louisiana, 71.00%, 22.00%, 45%\nUSA, HIG, Hartford Financial Services Group Inc, 73.00%, 29.00%, 45%\nUSA, HII, Huntington Ingalls Industries Inc, 97.00%, 23.00%, 48%\nUSA, HIW, Highwoods Properties Inc, 85.00%, 27.00%, 76%\nCAN, HLF, High Liner Foods Inc, 74.00%, 27.00%, 43%\nUSA, HLI, Houlihan Lokey Inc, 92.00%, 36.00%, 44%\nUSA, HLNFF, High Liner Foods Inc, 74.00%, 27.00%, 43%\nUSA, HMC, Honda Motor Co Ltd (ADR), 57.00%, 28.00%, 55%\nUSA, HMDPF, Hammond Power Solutions Inc., 79.00%, 15.00%, 65%\nUSA, HMLP, Hoegh LNG Partners LP, 83.00%, 18.00%, 100%\nUSA, HMN, Horace Mann Educators Corporation, 66.00%, 27.00%, 60%\nUSA, HMST, HomeStreet Inc, 77.00%, 23.00%, 50%\nUSA, HNNA, Hennessy Advisors Inc, 70.00%, 17.00%, 86%\nUSA, HOPE, Hope Bancorp Inc, 59.00%, 37.00%, 69%\nCAN, HPS.A, Hammond Power Solutions Inc., 79.00%, 15.00%, 62%\nUSA, HQH, Tekla Healthcare Investors, 93.00%, 5.00%, 95%\nUSA, HQL, Tekla Life Sciences Investors, 94.00%, 4.00%, 97%\nUSA, HRNNF, Hydro One Ltd, 87.00%, 18.00%, 65%\nUSA, HTGC, Hercules Capital Inc, 88.00%, 13.00%, 94%\nUSA, HTHIY, \"Hitachi,  Ltd. (ADR)\", 76.00%, 32.00%, 42%\nUSA, HVT, \"Haverty Furniture Companies,  Inc.\", 92.00%, 24.00%, 48%\nUSA, HVT.A, \"Haverty Furniture Companies,  Inc.\", 92.00%, 24.00%, 44%\nUSA, HWBK, \"Hawthorn Bancshares,  Inc.\", 77.00%, 16.00%, 52%\nCAN, HWF, Middlefield Health & Wellness ETF, 77.00%, 21.00%, 74%\nUSA, HZNOF, Dexterra Group Inc, 95.00%, 4.00%, 81%\nCAN, IAF.PR.B, iA Financial Corporation Inc, 74.00%, 23.00%, 78%\nUSA, IAFNF, iA Financial Corporation Inc, 74.00%, 23.00%, 57%\nCAN, IAG, iA Financial Corporation Inc, 74.00%, 23.00%, 58%\nUSA, IBCP, Independent Bank Corp (Michigan), 84.00%, 15.00%, 68%\nUSA, IBOC, International Bancshares Corp, 67.00%, 38.00%, 52%\nUSA, IFN, \"The India Fund,  Inc.\", 74.00%, 14.00%, 98%\nUSA, IGIC, International General Insuranc Hldgs Ltd, 70.00%, 19.00%, 79%\nUSA, IGIFF, IGM Financial Inc., 85.00%, 24.00%, 85%\nCAN, IGM, IGM Financial Inc., 85.00%, 24.00%, 85%\nCAN, IIP.UN, Interrent Real Estate Investment Trust, 67.00%, 28.00%, 45%\nUSA, IIPZF, Interrent Real Estate Investment Trust, 67.00%, 28.00%, 51%\nUSA, IMBBY, Imperial Brands PLC (ADR), 95.00%, 17.00%, 97%\nUSA, IMOS, ChipMOS Technologies Inc - ADR, 77.00%, 29.00%, 89%\nUSA, INGR, Ingredion Inc, 79.00%, 39.00%, 58%\nCAN, INO.UN, Inovalis Real Estate Investment Trust, 58.00%, 29.00%, 96%\nUSA, INTC, Intel Corporation, 93.00%, 26.00%, 46%\nUSA, IPLDP, Interstate Power and Light Co, 71.00%, 1.00%, 79%\nUSA, IRCP, IRSA Propiedades Comerciales SA (ADR), 96.00%, 1.00%, 100%\nUSA, ISBA, Isabella Bank Corp, 58.00%, 35.00%, 81%\nUSA, ISBC, Investors Bancorp Inc, 68.00%, 34.00%, 70%\nUSA, ITUB, Itau Unibanco Holding SA (ADR), 81.00%, 30.00%, 45%\nUSA, IVREF, Inovalis Real Estate Investment Trust, 58.00%, 29.00%, 96%\nUSA, IX, ORIX Corporation (ADR), 62.00%, 22.00%, 75%\nCAN, JAG, Jaguar Mining Inc., 98.00%, 6.00%, 81%\nUSA, JAGGF, Jaguar Mining Inc (USA), 98.00%, 6.00%, 81%\nUSA, JEF, Jefferies Financial Group Inc, 80.00%, 9.00%, 54%\nUSA, JFBC, Jeffersonville Bancorp, 63.00%, 35.00%, 64%\nUSA, JMM, Nuveen Multi-Market Income Fund Inc, 58.00%, 40.00%, 80%\nUSA, JPM, JPMorgan Chase & Co., 76.00%, 38.00%, 50%\nUSA, JUVF, Juniata Valley Financial Corp, 65.00%, 30.00%, 85%\nUSA, K, Kellogg Company, 97.00%, 37.00%, 68%\nUSA, KB, \"KB Financial Group,  Inc. (ADR)\", 69.00%, 7.00%, 65%\nUSA, KEN, Kenon Holdings Ltd, 97.00%, 6.00%, 70%\nUSA, KEY, KeyCorp, 67.00%, 36.00%, 68%\nUSA, KIM, Kimco Realty Corp, 88.00%, 14.00%, 67%\nUSA, KKR.PR.A, KKR & Co Inc, 87.00%, 37.00%, 91%\nUSA, KKR.PR.B, KKR & Co Inc, 87.00%, 37.00%, 89%\nUSA, KKR.PR.C, KKR & Co Inc, 87.00%, 37.00%, 74%\nCAN, KL, Kirkland Lake Gold Ltd, 91.00%, 25.00%, 44%\nUSA, KL, Kirkland Lake Gold Ltd, 91.00%, 25.00%, 44%\nUSA, KMMPF, Killam Apartment REIT, 69.00%, 28.00%, 68%\nCAN, KMP.UN, Killam Apartment REIT, 69.00%, 28.00%, 67%\nUSA, KNOP, KNOT Offshore Partners LP, 71.00%, 18.00%, 99%\nUSA, KR, Kroger Co, 94.00%, 22.00%, 41%\nUSA, KT, KT Corp (ADR), 57.00%, 18.00%, 68%\nUSA, KTHN, Katahdin Bankshares Corp, 80.00%, 10.00%, 50%\nUSA, LARK, Landmark Bancorp Inc, 86.00%, 7.00%, 63%\nUSA, LAZ, Lazard Ltd, 98.00%, 25.00%, 74%\nCAN, LB, Laurentian Bank of Canada, 57.00%, 33.00%, 71%\nUSA, LBAI, \"Lakeland Bancorp,  Inc.\", 66.00%, 32.00%, 60%\nUSA, LBC, Luther Burbank Corp, 62.00%, 32.00%, 44%\nUSA, LCNB, LCNB Corp., 69.00%, 21.00%, 74%\nUSA, LEFUF, Leon's Furniture Ltd., 86.00%, 20.00%, 60%\nUSA, LFC, China Life Insurance Co Ltd (ADR), 77.00%, 10.00%, 81%\nUSA, LFT, Lument Finance Trust Inc, 66.00%, 20.00%, 98%\nCAN, LIF, Labrador Iron Ore Royalty Corporation, 97.00%, 18.00%, 99%\nUSA, LIFZF, Labrador Iron Ore Royalty Corporation, 97.00%, 18.00%, 99%\nUSA, LMT, Lockheed Martin Corporation, 100.00%, 34.00%, 56%\nCAN, LNF, Leon's Furniture Ltd., 86.00%, 20.00%, 59%\nUSA, LNVGY, Lenovo Group Limited (ADR), 92.00%, 37.00%, 58%\nUSA, LOAN, Manhattan Bridge Capital Inc., 81.00%, 25.00%, 95%\nUSA, LOMA, Loma Negra Compania Indl Argntna SA-ADR, 84.00%, 19.00%, 97%\nUSA, LRCDF, Laurentian Bank of Canada, 57.00%, 33.00%, 71%\nUSA, LTC, LTC Properties Inc, 79.00%, 40.00%, 83%\nUSA, LXP, Lexington Realty Trust, 73.00%, 40.00%, 69%\nUSA, LXP.PR.C, Lexington Realty Trust, 73.00%, 40.00%, 84%\nUSA, MAMTF, MCAN Mortgage Corporation, 79.00%, 16.00%, 96%\nUSA, MBCN, Middlefield Banc Corp, 61.00%, 34.00%, 62%\nUSA, MBLU, Morris State Bancshares Inc, 83.00%, 12.00%, 48%\nUSA, MBT, Mobil'nye Telesistemy PAO (ADR), 100.00%, 14.00%, 100%\nUSA, MBWM, Mercantile Bank Corp., 74.00%, 22.00%, 69%\nUSA, MCBC, Macatawa Bank Corporation, 80.00%, 20.00%, 64%\nUSA, MCBI, Mountain Commerce Bancorp Inc, 74.00%, 33.00%, 43%\nUSA, MCBS, Metrocity Bankshares Inc, 85.00%, 17.00%, 57%\nUSA, MCCHF, McChip Resources Inc, 92.00%, 4.00%, 98%\nUSA, MCEM, Monarch Cement Co, 78.00%, 37.00%, 41%\nUSA, MCN, Madison Covered Call & Equity Strtgy Fd, 62.00%, 38.00%, 97%\nCAN, MCS, McChip Resources Inc, 92.00%, 4.00%, 98%\nUSA, MCY, Mercury General Corporation, 89.00%, 15.00%, 72%\nUSA, MDC, \"M.D.C. Holdings,  Inc.\", 88.00%, 24.00%, 52%\nUSA, MDPCF, Madison Pacific Properties Inc., 65.00%, 15.00%, 53%\nUSA, MDU, Mdu Resources Group Inc, 80.00%, 36.00%, 55%\nUSA, MET, Metlife Inc, 65.00%, 20.00%, 60%\nUSA, MET.PR.A, Metlife Inc, 65.00%, 20.00%, 71%\nUSA, MFC, Manulife Financial Corporation (USA), 79.00%, 15.00%, 73%\nCAN, MFC, Manulife Financial Corp., 79.00%, 15.00%, 73%\nUSA, MFNC, Mackinac Financial Corporation, 68.00%, 36.00%, 56%\nUSA, MITSY, Mitsui & Co Ltd (ADR), 61.00%, 33.00%, 68%\nCAN, MKP, MCAN Mortgage Corporation, 79.00%, 16.00%, 95%\nCAN, MKZ.UN, Mackenzie Master LP, 99.00%, 12.00%, 100%\nUSA, MMD, Mainstay Definedterm Municipal Opptys Fd, 61.00%, 39.00%, 77%\nUSA, MMP, \"Magellan Midstream Partners,  L.P.\", 96.00%, 24.00%, 98%\nCAN, MMP.UN, Precious Metals And Mining Trust, 98.00%, 2.00%, 85%\nUSA, MNARF, Morguard North American Residential REIT, 83.00%, 6.00%, 77%\nUSA, MNDO, MIND C.T.I. Ltd., 92.00%, 19.00%, 97%\nUSA, MPB, \"Mid Penn Bancorp,  Inc.\", 75.00%, 12.00%, 61%\nCAN, MPC, Madison Pacific Properties Inc., 65.00%, 15.00%, 53%\nCAN, MPC.C, Madison Pacific Properties Inc., 65.00%, 15.00%, 55%\nCAN, MR.UN, Melcor Real Estate Investment Trust, 52.00%, 34.00%, 89%\nUSA, MRBK, Meridian Corp, 89.00%, 7.00%, 43%\nCAN, MRG.UN, Morguard North American Residential REIT, 83.00%, 6.00%, 76%\nUSA, MTB, M&T Bank Corporation, 69.00%, 33.00%, 59%\nUSA, MTEX, \"Mannatech,  Inc.\", 92.00%, 9.00%, 64%\nUSA, MUFG, Mitsubishi UFJ Financial Group Inc (ADR), 53.00%, 28.00%, 76%\nUSA, MVO, MV Oil Trust, 98.00%, 21.00%, 99%\nUSA, MYTAY, Magyar Telekom Tavkozlesi Nyrt (ADR), 64.00%, 17.00%, 79%\nUSA, NASB, \"NASB Financial,  Inc.\", 96.00%, 4.00%, 77%\nUSA, NAT, Nordic American Tanker Ltd, 84.00%, 5.00%, 100%\nUSA, NAVI, Navient Corp, 82.00%, 9.00%, 76%\nUSA, NBHC, National Bank Holdings Corp, 76.00%, 28.00%, 46%\nUSA, NBLX, Noble Midstream Partners LP, 86.00%, 16.00%, 83%\nUSA, NBTB, NBT Bancorp Inc., 70.00%, 35.00%, 58%\nUSA, NC, \"NACCO Industries,  Inc.\", 58.00%, 19.00%, 66%\nUSA, NCV, Virtus Allianzgi Convertible & Incom Fnd, 65.00%, 31.00%, 97%\nUSA, NCZ, Virtus Allianzgi Convrtbl & Inc Fd II, 64.00%, 32.00%, 97%\nUSA, NEU, NewMarket Corporation, 97.00%, 33.00%, 43%\nUSA, NEWT, NEWTEK Business Services Corp, 73.00%, 38.00%, 93%\nUSA, NHI, National Health Investors Inc, 79.00%, 40.00%, 87%\nUSA, NHS, Neuberger Berman High Yield Strateges Fd, 96.00%, 3.00%, 96%\nUSA, NIDB, Northeast Indiana Bancorp Inc, 80.00%, 16.00%, 53%\nUSA, NIE, Virtus Allianzgi Equity & Convbl Inc Fnd, 94.00%, 4.00%, 82%\nUSA, NKSH, National Bankshares Inc., 68.00%, 30.00%, 72%\nUSA, NMR, Nomura Holdings Inc (ADR), 73.00%, 9.00%, 76%\nUSA, NNA, Navios Maritime Acquisition Corporation, 80.00%, 1.00%, 88%\nUSA, NNWWF, North West Company Inc, 95.00%, 26.00%, 72%\nUSA, NPK, National Presto Industries Inc., 79.00%, 35.00%, 99%\nUSA, NRIM, \"Northrim BanCorp,  Inc.\", 84.00%, 12.00%, 67%\nUSA, NRT, North European Oil Royalty Trust, 100.00%, 37.00%, 87%\nUSA, NSARO, NSTAR Electric Company, 74.00%, 1.00%, 77%\nUSA, NSARP, NSTAR Electric Company, 74.00%, 1.00%, 72%\nUSA, NTB, Bank of N.T. Butterfield & Son Ltd, 84.00%, 25.00%, 79%\nUSA, NTIOF, National Bank of Canada, 85.00%, 29.00%, 64%\nUSA, NTTYY, Nippon Telegraph & Telephone Corp (ADR), 75.00%, 22.00%, 68%\nUSA, NUS, \"Nu Skin Enterprises,  Inc.\", 91.00%, 30.00%, 59%\nUSA, NUVR, Nuvera Communications Inc, 77.00%, 25.00%, 46%\nCAN, NWC, North West Company Inc, 95.00%, 26.00%, 71%\nUSA, NWFL, Norwood Financial Corporation, 70.00%, 26.00%, 72%\nCAN, NWH.UN, NorthWest Health Prop Real Est Inv Trust, 90.00%, 12.00%, 88%\nUSA, NWHUF, NorthWest Health Prop Real Est Inv Trust, 90.00%, 12.00%, 88%\nUSA, NWIN, Northwest Indiana Bancorp, 77.00%, 14.00%, 59%\nCAN, NXR.UN, Nexus Real Estate Investment Trust, 79.00%, 11.00%, 94%\nUSA, NXST, Nexstar Media Group Inc, 96.00%, 13.00%, 41%\nUSA, NYCB, \"New York Community Bancorp,  Inc.\", 62.00%, 30.00%, 84%\nUSA, OCSL, Oaktree Specialty Lending Corp, 72.00%, 18.00%, 93%\nUSA, ODC, Oil-Dri Corporation of America, 79.00%, 25.00%, 60%\nUSA, OFG.PR.A, OFG Bancorp, 64.00%, 39.00%, 92%\nUSA, OFG.PR.B, OFG Bancorp, 64.00%, 39.00%, 92%\nUSA, OLP, \"One Liberty Properties,  Inc.\", 70.00%, 40.00%, 94%\nCAN, OLY, Olympia Financial Group Inc, 97.00%, 28.00%, 88%\nUSA, OMC, Omnicom Group Inc., 95.00%, 40.00%, 68%\nUSA, OMF, OneMain Holdings Inc, 88.00%, 17.00%, 64%\nUSA, OMVKY, OMV AG (ADR), 71.00%, 20.00%, 72%\nUSA, ONB, Old National Bancorp, 66.00%, 29.00%, 60%\nUSA, OPBK, OP Bancorp, 70.00%, 22.00%, 58%\nCAN, ORA, Aura Minerals Inc, 94.00%, 22.00%, 95%\nUSA, ORAN, Orange SA (ADR), 82.00%, 7.00%, 86%\nCAN, ORC.B, Orca Exploration Group Inc, 96.00%, 4.00%, 93%\nUSA, ORCC, Owl Rock Capital Corp, 63.00%, 28.00%, 97%\nUSA, ORI, Old Republic International Corporation, 70.00%, 24.00%, 70%\nUSA, ORRF, Orrstown Financial Services Inc, 76.00%, 15.00%, 63%\nUSA, ORXGF, Orca Exploration Group Inc, 96.00%, 4.00%, 94%\nUSA, OTTW, Ottawa Savings Bancorp Inc, 58.00%, 39.00%, 55%\nUSA, OVBC, Ohio Valley Banc Corp., 66.00%, 19.00%, 69%\nUSA, OZK, Bank Ozk, 64.00%, 38.00%, 59%\nUSA, PAG, \"Penske Automotive Group,  Inc.\", 87.00%, 24.00%, 44%\nUSA, PANL, Pangaea Logistics Solutions Ltd, 62.00%, 22.00%, 57%\nUSA, PB, \"Prosperity Bancshares,  Inc.\", 69.00%, 26.00%, 55%\nUSA, PBFX, PBF Logistics LP, 100.00%, 7.00%, 96%\nUSA, PBIP, Prudential Bancorp Inc, 62.00%, 26.00%, 43%\nUSA, PBT, Permian Basin Royalty Trust, 100.00%, 37.00%, 69%\nCAN, PBY.UN, Canso Credit Income Fund, 90.00%, 5.00%, 67%\nUSA, PCB, PCB Bancorp, 64.00%, 28.00%, 58%\nUSA, PDM, \"Piedmont Office Realty Trust,  Inc.\", 79.00%, 16.00%, 78%\nUSA, PEBK, \"Peoples Bancorp of North Carolina,  Inc.\", 68.00%, 23.00%, 57%\nUSA, PEG, Public Service Enterprise Group Inc., 79.00%, 36.00%, 64%\nUSA, PERS, SandRidge Permian Trust, 75.00%, 3.00%, 100%\nCAN, PFB, PFB Corporation, 94.00%, 14.00%, 41%\nUSA, PFBC, Preferred Bank, 82.00%, 29.00%, 50%\nUSA, PFBI, \"Premier Financial Bancorp,  Inc.\", 70.00%, 24.00%, 63%\nUSA, PFG, Principal Financial Group Inc, 70.00%, 24.00%, 68%\nUSA, PFIS, Peoples Financial Services Corp, 72.00%, 18.00%, 68%\nUSA, PFLC, Pacific Financial Corporation, 74.00%, 22.00%, 73%\nUSA, PFLT, Pennantpark Floating Rate Capital Ltd, 64.00%, 30.00%, 97%\nUSA, PFS, \"Provident Financial Services,  Inc.\", 62.00%, 37.00%, 72%\nCAN, PIF, Polaris Infrastructure Inc, 80.00%, 21.00%, 69%\nUSA, PINC, Premier Inc, 93.00%, 12.00%, 48%\nUSA, PKBK, \"Parke Bancorp,  Inc.\", 84.00%, 12.00%, 64%\nUSA, PKKW, Parkway Acquisition Corp, 64.00%, 22.00%, 49%\nUSA, PKO, PIMCO Income Opportunity Fund, 64.00%, 39.00%, 96%\nUSA, PKX, POSCO (ADR), 53.00%, 35.00%, 67%\nUSA, PLBC, Plumas Bancorp, 85.00%, 18.00%, 42%\nCAN, PMB.UN, Picton Mahoney Tactical Income Fund, 57.00%, 33.00%, 81%\nCAN, PME, Sentry Select Primary Metals Corp., 97.00%, 2.00%, 89%\nUSA, PMMTF, Precious Metals And Mining Trust, 98.00%, 2.00%, 85%\nUSA, PNNT, PennantPark Investment Corp., 61.00%, 23.00%, 94%\nCAN, POW, Power Corporation of Canada, 77.00%, 21.00%, 83%\nCAN, POW.PR.A, Power Corporation of Canada, 77.00%, 21.00%, 84%\nCAN, POW.PR.B, Power Corporation of Canada, 77.00%, 21.00%, 83%\nCAN, POW.PR.C, Power Corporation of Canada, 77.00%, 21.00%, 85%\nCAN, POW.PR.D, Power Corporation of Canada, 77.00%, 21.00%, 80%\nCAN, POW.PR.E, Power Corporation of Canada, 77.00%, 21.00%, 79%\nUSA, PPL, PPL Corp, 76.00%, 32.00%, 86%\nUSA, PPSF, Peoples-Sidney Financial Corporation, 57.00%, 35.00%, 54%\nUSA, PRE.PR.G, Partnerre Ltd, 51.00%, 24.00%, 90%\nUSA, PRE.PR.H, Partnerre Ltd, 51.00%, 24.00%, 93%\nUSA, PRE.PR.I, Partnerre Ltd, 51.00%, 24.00%, 86%\nUSA, PRK, Park National Corporation, 80.00%, 36.00%, 64%\nCAN, PRV.UN, PRO Real Estate Investment Trust, 69.00%, 24.00%, 92%\nUSA, PSEC, Prospect Capital Corporation, 81.00%, 9.00%, 97%\nUSA, PSXP, Phillips 66 Partners LP, 96.00%, 16.00%, 99%\nUSA, PTMN, Portman Ridge Finance Corp, 86.00%, 9.00%, 99%\nUSA, PWCDF, Power Corporation of Canada, 77.00%, 21.00%, 82%\nCAN, PWF.PR.A, Power Financial Corp, 73.00%, 22.00%, 62%\nCAN, PWF.PR.E, Power Financial Corp, 73.00%, 22.00%, 84%\nCAN, PWF.PR.F, Power Financial Corp, 73.00%, 22.00%, 82%\nCAN, PWF.PR.G, Power Financial Corp, 73.00%, 22.00%, 86%\nCAN, PWF.PR.H, Power Financial Corp, 73.00%, 22.00%, 85%\nCAN, PWF.PR.I, Power Financial Corp, 73.00%, 22.00%, 87%\nCAN, PWF.PR.K, Power Financial Corp, 73.00%, 22.00%, 81%\nCAN, PWF.PR.L, Power Financial Corp, 73.00%, 22.00%, 81%\nCAN, PWF.PR.O, Power Financial Corp, 73.00%, 22.00%, 86%\nCAN, PWF.PR.P, Power Financial Corp, 73.00%, 22.00%, 65%\nCAN, PWF.PR.R, Power Financial Corp, 73.00%, 22.00%, 84%\nCAN, PWF.PR.S, Power Financial Corp, 73.00%, 22.00%, 80%\nCAN, PWF.PR.T, Power Financial Corp, 73.00%, 22.00%, 79%\nUSA, PWOD, \"Penns Woods Bancorp,  Inc.\", 72.00%, 20.00%, 84%\nCAN, PZA, Pizza Pizza Royalty Corp, 69.00%, 28.00%, 89%\nUSA, PZRIF, Pizza Pizza Royalty Corp, 69.00%, 28.00%, 89%\nCAN, QBR.A, \"Quebecor,  Inc.\", 98.00%, 35.00%, 63%\nCAN, QBR.B, \"Quebecor,  Inc.\", 98.00%, 35.00%, 62%\nUSA, QIWI, Qiwi PLC, 96.00%, 4.00%, 98%\nUSA, QNBC, QNB Corp, 71.00%, 18.00%, 72%\nUSA, QNTO, Quaint Oak Bancorp Inc, 78.00%, 19.00%, 45%\nUSA, QQQX, Nuveen Nasdaq 100 Dynamic Overwrite Fund, 84.00%, 11.00%, 89%\nUSA, QRTEP, Qurate Retail Inc, 94.00%, 4.00%, 95%\nUSA, RAMPF, Polaris Infrastructure Inc, 80.00%, 21.00%, 69%\nUSA, RBB, RBB Bancorp, 67.00%, 23.00%, 52%\nUSA, RBCAA, \"Republic Bancorp,  Inc. KY\", 74.00%, 21.00%, 57%\nUSA, RC, Ready Capital Corp, 59.00%, 39.00%, 59%\nUSA, RCII, Rent-A-Center Inc, 97.00%, 33.00%, 47%\nUSA, RDN, Radian Group Inc, 71.00%, 22.00%, 46%\nUSA, REYN, Reynolds Consumer Products Inc, 99.00%, 38.00%, 62%\nUSA, RGCO, RGC Resources Inc., 79.00%, 35.00%, 65%\nUSA, RGR, Sturm Ruger & Company Inc, 96.00%, 29.00%, 62%\nCAN, RIB.UN, Ridgewood Canadian Investment Grd BndFnd, 76.00%, 16.00%, 70%\nCAN, RIGP.UN, Canadian Investment Grade Prf Share Fund, 55.00%, 36.00%, 85%\nUSA, RILY, B. Riley Financial Inc, 98.00%, 15.00%, 59%\nUSA, RIO, Rio Tinto plc (ADR), 91.00%, 27.00%, 86%\nUSA, RIV, Rivernorth Opportunities Fund Inc, 75.00%, 19.00%, 99%\nUSA, RM, Regional Management Corp, 71.00%, 34.00%, 46%\nUSA, RMBI, Richmond Mutual Bancorporation Inc, 58.00%, 38.00%, 43%\nUSA, RMI, Rivernorth Opprtnstc Mncpl Incme Fnd Inc, 63.00%, 29.00%, 80%\nUSA, RSGUF, Rogers Sugar Inc, 77.00%, 33.00%, 90%\nCAN, RSI, Rogers Sugar Inc, 77.00%, 33.00%, 90%\nUSA, RSKIA, George Risk Industries Inc, 84.00%, 17.00%, 63%\nUSA, RTLR, Rattler Midstream LP, 60.00%, 30.00%, 94%\nUSA, RTPPF, Rio Tinto plc (ADR), 91.00%, 27.00%, 88%\nUSA, RVSB, \"Riverview Bancorp,  Inc.\", 63.00%, 33.00%, 60%\nUSA, RVT, Royce Value Trust Inc, 88.00%, 7.00%, 84%\nUSA, RY, Royal Bank of Canada, 82.00%, 31.00%, 69%\nCAN, RY, Royal Bank of Canada, 82.00%, 31.00%, 69%\nUSA, SACH, Sachem Capital Corp, 76.00%, 25.00%, 98%\nUSA, SAFT, \"Safety Insurance Group,  Inc.\", 86.00%, 15.00%, 74%\nUSA, SAL, \"Salisbury Bancorp,  Inc.\", 73.00%, 17.00%, 58%\nUSA, SAMG, Silvercrest Asset Management Group Inc, 83.00%, 29.00%, 75%\nUSA, SAR, Saratoga Investment Corp, 76.00%, 13.00%, 92%\nUSA, SBFG, SB Financial Group Inc, 75.00%, 14.00%, 51%\nUSA, SBR, Sabine Royalty Trust, 100.00%, 28.00%, 91%\nUSA, SBSI, \"Southside Bancshares,  Inc.\", 72.00%, 33.00%, 65%\nUSA, SBSW, Sibanye Stillwater Ltd (ADR), 99.00%, 8.00%, 82%\nUSA, SC, Santander Consumer USA Holdings Inc, 82.00%, 17.00%, 60%\nUSA, SCM, Stellus Capital Investment Corp, 65.00%, 26.00%, 93%\nUSA, SCMWY, Swisscom AG (ADR), 86.00%, 35.00%, 76%\nUSA, SCSG, SouthCrest Financial Group Inc, 74.00%, 24.00%, 53%\nUSA, SDTTU, Sandridge Mississippian Trust I, 62.00%, 15.00%, 100%\nUSA, SF.PR.B, Stifel Financial Corp, 81.00%, 35.00%, 86%\nUSA, SFNC, Simmons First National Corporation, 69.00%, 25.00%, 53%\nCAN, SGR.U, Slate Grocery REIT, 72.00%, 16.00%, 97%\nCAN, SGR.UN, Slate Grocery REIT, 72.00%, 16.00%, 97%\nUSA, SGTZY, Surgutneftegaz PAO (ADR), 78.00%, 2.00%, 42%\nUSA, SGU, Star Group LP, 90.00%, 12.00%, 80%\nUSA, SHBI, \"Shore Bancshares,  Inc.\", 67.00%, 27.00%, 58%\nUSA, SHG, \"Shinhan Financial Group Co.,  Ltd. (ADR)\", 67.00%, 6.00%, 97%\nUSA, SHLX, Shell Midstream Partners LP, 92.00%, 22.00%, 100%\nUSA, SIM, Grupo Simec SAB de CV (ADR), 79.00%, 18.00%, 76%\nUSA, SJI, South Jersey Industries Inc, 74.00%, 31.00%, 81%\nUSA, SJM, J M Smucker Co, 77.00%, 33.00%, 57%\nUSA, SLF, Sun Life Financial Inc, 74.00%, 34.00%, 65%\nCAN, SLF, Sun Life Financial Inc, 74.00%, 34.00%, 65%\nCAN, SLF.PR.A, Sun Life Financial Inc, 74.00%, 34.00%, 79%\nUSA, SLFYF, Sun Life Financial Inc, 74.00%, 34.00%, 78%\nUSA, SMFG, \"Sumitomo Mitsui Financial Grp,  Inc.(ADR)\", 57.00%, 17.00%, 83%\nUSA, SMMCF, Summit Industrial Income REIT, 79.00%, 20.00%, 68%\nUSA, SMMF, \"Summit Financial Group,  Inc.\", 78.00%, 19.00%, 56%\nUSA, SMP, \"Standard Motor Products,  Inc.\", 84.00%, 23.00%, 51%\nCAN, SMU.UN, Summit Industrial Income REIT, 79.00%, 20.00%, 68%\nUSA, SNP, China Petroleum & Chemical Corp (ADR), 56.00%, 25.00%, 69%\nUSA, SNY, Sanofi SA (ADR), 90.00%, 13.00%, 70%\nUSA, SOCGM, Southern California Gas Company, 74.00%, 8.00%, 74%\nUSA, SOCGP, Southern California Gas Company, 74.00%, 8.00%, 75%\nUSA, SOMC, Southern Michigan Bancorp Inc, 68.00%, 19.00%, 57%\nUSA, SOR, \"Source Capital,  Inc.\", 59.00%, 38.00%, 81%\nUSA, SPH, Suburban Propane Partners LP, 83.00%, 35.00%, 95%\nUSA, SPKE, Spark Energy Inc, 97.00%, 9.00%, 92%\nUSA, SPMLF, Sentry Select Primary Metals Corp., 97.00%, 2.00%, 92%\nUSA, SPTN, SpartanNash Co, 74.00%, 15.00%, 73%\nUSA, SRCE, 1st Source Corporation, 71.00%, 31.00%, 53%\nUSA, SRRTF, Slate Grocery REIT, 72.00%, 16.00%, 97%\nUSA, SSBI, Summit State Bank, 83.00%, 16.00%, 59%\nUSA, SSSS, SuRo Capital Corp, 95.00%, 6.00%, 64%\nUSA, STBI, \"Sturgis Bancorp,  Inc.\", 80.00%, 11.00%, 63%\nUSA, STC, Stewart Information Services Corp, 87.00%, 15.00%, 50%\nUSA, STNG, Scorpio Tankers Inc., 57.00%, 25.00%, 50%\nUSA, STT, State Street Corp, 73.00%, 28.00%, 52%\nUSA, SUHJY, Sun Hung Kai Properties Limited (ADR), 54.00%, 35.00%, 82%\nUSA, SUPV, Grupo Supervielle SA -ADR, 72.00%, 4.00%, 51%\nUSA, SWDBY, Swedbank AB (ADR), 69.00%, 28.00%, 78%\nUSA, SWM, \"Schweitzer-Mauduit International,  Inc.\", 81.00%, 40.00%, 68%\nUSA, SWX, Southwest Gas Holdings Inc, 70.00%, 37.00%, 66%\nUSA, SYF, Synchrony Financial, 74.00%, 40.00%, 46%\nUSA, TATYY, Tate & Lyle PLC (ADR), 87.00%, 31.00%, 69%\nUSA, TBNK, Territorial Bancorp Inc, 66.00%, 26.00%, 67%\nCAN, TCL.A, Transcontinental Inc., 70.00%, 27.00%, 71%\nUSA, TCLAF, Transcontinental Inc., 70.00%, 27.00%, 70%\nUSA, TCPC, BlackRock TCP Capital Corp, 71.00%, 21.00%, 96%\nUSA, TD, Toronto-Dominion Bank, 81.00%, 25.00%, 70%\nCAN, TD, Toronto-Dominion Bank, 81.00%, 25.00%, 70%\nCAN, TD.PF.A, Toronto-Dominion Bank, 81.00%, 25.00%, 72%\nUSA, TDS, \"Telephone & Data Systems,  Inc.\", 57.00%, 23.00%, 61%\nUSA, TELNY, Telenor ASA (ADR), 97.00%, 29.00%, 94%\nUSA, TFCCF, Terra Firma Capital Corporation, 59.00%, 23.00%, 70%\nUSA, THFF, First Financial Corp, 71.00%, 21.00%, 51%\nUSA, THG, Hanover Insurance Group Inc, 78.00%, 29.00%, 45%\nUSA, THQ, Tekla Healthcare Opportunities Fund, 83.00%, 11.00%, 88%\nUSA, THW, Tekla World Healthcare Fund, 83.00%, 11.00%, 97%\nUSA, TIAIY, Telecom Italia SpA (ADR), 95.00%, 1.00%, 99%\nCAN, TII, Terra Firma Capital Corporation, 59.00%, 23.00%, 65%\nUSA, TIIAY, Telecom Italia SpA (ADR), 95.00%, 1.00%, 76%\nUSA, TKAGY, Telekom Austria AG (ADR), 82.00%, 21.00%, 65%\nUSA, TKC, Turkcell Iletisim Hizmetleri A.S. (ADR), 91.00%, 11.00%, 54%\nUSA, TLK, Telkom Indonesia (Persero) Tbk PT -ADR, 87.00%, 39.00%, 65%\nUSA, TM, Toyota Motor Corp (ADR), 65.00%, 34.00%, 57%\nUSA, TMP, Tompkins Financial Corporation, 76.00%, 32.00%, 57%\nUSA, TNSGF, Findev Inc, 74.00%, 11.00%, 86%\nCAN, TNT.UN, True North Commercial REIT, 66.00%, 33.00%, 96%\nCAN, TOU, Tourmaline Oil Corp, 65.00%, 18.00%, 56%\nUSA, TOWN, TowneBank, 69.00%, 32.00%, 51%\nUSA, TPVG, Triplepoint Venture Growth BDC Corp, 72.00%, 27.00%, 98%\nUSA, TRCY, Tri City Bankshares Corporation, 67.00%, 39.00%, 56%\nUSA, TRMK, Trustmark Corp, 71.00%, 26.00%, 58%\nUSA, TRMLF, Tourmaline Oil Corp, 65.00%, 18.00%, 57%\nUSA, TROW, T. Rowe Price Group Inc, 95.00%, 39.00%, 52%\nUSA, TRP, TC Energy Corp (USA), 86.00%, 24.00%, 87%\nCAN, TRP, TC Energy Corp, 86.00%, 24.00%, 87%\nCAN, TRP.PR.A, TC Energy Corp, 86.00%, 24.00%, 82%\nCAN, TRP.PR.C, TC Energy Corp, 86.00%, 24.00%, 66%\nCAN, TRP.PR.E, TC Energy Corp, 86.00%, 24.00%, 80%\nUSA, TRRVF, TerraVest Industries Inc, 94.00%, 17.00%, 50%\nUSA, TRST, TrustCo Bank Corp NY, 71.00%, 28.00%, 69%\nUSA, TRTN, Triton International Ltd, 82.00%, 27.00%, 73%\nUSA, TRTN.PR.A, Triton International Ltd, 82.00%, 27.00%, 94%\nUSA, TRTN.PR.B, Triton International Ltd, 82.00%, 27.00%, 93%\nUSA, TRTN.PR.C, Triton International Ltd, 82.00%, 27.00%, 91%\nUSA, TRTN.PR.D, Triton International Ltd, 82.00%, 27.00%, 90%\nUSA, TRV, Travelers Companies Inc, 72.00%, 31.00%, 48%\nUSA, TSBK, \"Timberland Bancorp,  Inc.\", 81.00%, 15.00%, 62%\nUSA, TSCDY, Tesco PLC (ADR), 67.00%, 38.00%, 80%\nUSA, TSLX, Sixth Street Specialty Lending Inc, 85.00%, 13.00%, 93%\nUSA, TSN, \"Tyson Foods,  Inc.\", 80.00%, 30.00%, 50%\nUSA, TUERF, True North Commercial REIT, 66.00%, 33.00%, 96%\nCAN, TVK, TerraVest Industries Inc, 94.00%, 17.00%, 50%\nUSA, TY, Tri-Continental Corporation, 77.00%, 13.00%, 63%\nUSA, UBAAF, Urbana Corp, 58.00%, 18.00%, 60%\nUSA, UBCP, \"United Bancorp,  Inc.\", 77.00%, 19.00%, 71%\nUSA, UBFO, United Security Bancshares, 66.00%, 31.00%, 85%\nUSA, UBOH, United Bancshares Inc. OH, 81.00%, 8.00%, 52%\nUSA, UBS, UBS Group AG (USA), 77.00%, 14.00%, 51%\nUSA, UBSI, \"United Bankshares,  Inc.\", 66.00%, 35.00%, 69%\nUSA, UCBI, \"United Community Banks,  Inc.\", 70.00%, 38.00%, 49%\nCAN, UFC, Urbanfund Corp., 76.00%, 14.00%, 66%\nUSA, UGI, UGI Corp, 83.00%, 31.00%, 62%\nUSA, UNB, \"Union Bankshares,  Inc.\", 86.00%, 19.00%, 75%\nCAN, UNC.PR.A, United Corporations Limited, 75.00%, 7.00%, 79%\nCAN, UNC.PR.B, United Corporations Limited, 75.00%, 7.00%, 80%\nUSA, UNM, Unum Group, 66.00%, 10.00%, 72%\nUSA, UNTN, \"United Tennessee Bankshares,  Inc.\", 75.00%, 28.00%, 53%\nCAN, URB, Urbana Corp, 58.00%, 18.00%, 60%\nCAN, URB.A, Urbana Corp, 58.00%, 18.00%, 61%\nCAN, URB.A, Urbana Corp, 58.00%, 18.00%, 62%\nUSA, URNAF, Urbana Corp, 58.00%, 18.00%, 59%\nCAN, UTE.UN, Canadian Utilities & Telecom Income Fund, 60.00%, 28.00%, 90%\nUSA, UVSP, Univest Financial Corp, 64.00%, 38.00%, 59%\nUSA, VABK, Virginia National Bankshares Corp, 73.00%, 21.00%, 68%\nUSA, VALU, \"Value Line,  Inc.\", 95.00%, 31.00%, 59%\nUSA, VIAC, ViacomCBS Inc, 85.00%, 19.00%, 51%\nUSA, VIACA, ViacomCBS Inc, 85.00%, 19.00%, 45%\nUSA, VICI, VICI Properties Inc, 74.00%, 38.00%, 76%\nUSA, VIRT, Virtu Financial Inc, 98.00%, 7.00%, 62%\nUSA, VIV, Telefonica Brasil SA (ADR), 64.00%, 34.00%, 100%\nUSA, VLGEA, \"Village Super Market,  Inc.\", 68.00%, 27.00%, 72%\nUSA, VLY, Valley National Bancorp, 69.00%, 31.00%, 64%\nUSA, VOC, VOC Energy Trust, 80.00%, 20.00%, 93%\nUSA, VOD, Vodafone Group Plc (ADR), 56.00%, 40.00%, 96%\nUSA, VST, Vistra Corp, 67.00%, 28.00%, 66%\nUSA, VTKLY, Vtech Holdings Ltd (ADR), 95.00%, 23.00%, 86%\nUSA, VZ, Verizon Communications Inc., 94.00%, 27.00%, 75%\nUSA, WAFD, Washington Federal Inc., 64.00%, 35.00%, 61%\nUSA, WASH, Washington Trust Bancorp Inc, 81.00%, 25.00%, 73%\nUSA, WAYN, \"Wayne Savings Bancshares,  Inc\", 81.00%, 16.00%, 65%\nCAN, WBE, Westbond Enterprises Corp, 96.00%, 18.00%, 99%\nUSA, WBNEF, Westbond Enterprises Corp, 96.00%, 18.00%, 98%\nUSA, WELPM, Wisconsin Electric Power Company, 73.00%, 12.00%, 75%\nUSA, WELPP, Wisconsin Electric Power Company, 73.00%, 12.00%, 71%\nUSA, WES, Western Midstream Partners LP, 87.00%, 33.00%, 91%\nUSA, WF, Woori Financial Group Inc (ADR), 60.00%, 7.00%, 89%\nUSA, WHF, WhiteHorse Finance Inc, 73.00%, 19.00%, 96%\nUSA, WHR, Whirlpool Corporation, 95.00%, 28.00%, 46%\nCAN, WIR.U, WPT Industrial Real Estat Invstmnt Trust, 91.00%, 8.00%, 76%\nCAN, WIR.UN, WPT Industrial Real Estat Invstmnt Trust, 91.00%, 8.00%, 77%\nCAN, WJX, Wajax Corp, 73.00%, 25.00%, 82%\nUSA, WJXFF, Wajax Corp, 73.00%, 25.00%, 80%\nUSA, WLKP, Westlake Chemical Partners LP, 80.00%, 28.00%, 93%\nUSA, WMK, \"Weis Markets,  Inc.\", 75.00%, 23.00%, 50%\nUSA, WNEB, Western New England Bancorp Inc, 57.00%, 40.00%, 52%\nUSA, WPTIF, WPT Industrial Real Estat Invstmnt Trust, 91.00%, 8.00%, 76%\nUSA, WSBF, Waterstone Financial Inc, 89.00%, 7.00%, 71%\nUSA, WTBA, \"West Bancorporation,  Inc.\", 84.00%, 24.00%, 68%\nCAN, WTE, Westshore Terminals Investment Corp, 87.00%, 17.00%, 72%\nUSA, WTSHF, Westshore Terminals Investment Corp, 87.00%, 17.00%, 71%\nUSA, WU, The Western Union Company, 100.00%, 30.00%, 69%\nUSA, WVFC, WVS Financial Corp., 56.00%, 34.00%, 54%\nUSA, XIN, \"Xinyuan Real Estate Co.,  Ltd. (ADR)\", 41.00%, 17.00%, 100%\nCAN, XTC, Exco Technologies Limited, 70.00%, 27.00%, 71%\nCAN, Y, Yellow Pages Ltd, 100.00%, 7.00%, 68%\nUSA, YLWDF, Yellow Pages Ltd, 100.00%, 7.00%, 68%\nUSA, YY, JOYY Inc (ADR), 70.00%, 33.00%, 44%\nUSA, YZCAY, Yanzhou Coal Mining Co Ltd (ADR), 82.00%, 4.00%, 91%\nUSA, ZION, Zions Bancorporation NA, 64.00%, 40.00%, 52%\nUSA, ZIONL, Zions Bancorporation NA, 64.00%, 40.00%, 89%\nUSA, ZIONN, Zions Bancorporation NA, 64.00%, 40.00%, 85%\nUSA, ZIONO, Zions Bancorporation NA, 64.00%, 40.00%, 86%\nUSA, ZIONP, Zions Bancorporation NA, 64.00%, 40.00%, 72%\nUSA, ZURVY, Zurich Insurance Group AG (ADR), 74.00%, 35.00%, 80%\n"
     ]
    }
   ],
   "source": [
    "# using csv\n",
    "with open(\"stocks.csv\", newline= \"\") as csvfile: \n",
    "    spamreader = csv.reader(csvfile, delimiter= \",\", quotechar= \"|\")\n",
    "    for row in spamreader:\n",
    "        print(\", \".join(row))"
   ]
  },
  {
   "source": [
    "## Creating a YAML file for the data and then reading the YAML file to read the data "
   ],
   "cell_type": "markdown",
   "metadata": {}
  },
  {
   "cell_type": "code",
   "execution_count": 9,
   "metadata": {},
   "outputs": [
    {
     "output_type": "stream",
     "name": "stdout",
     "text": [
      "Overwriting stocks.yaml\n"
     ]
    }
   ],
   "source": [
    "%%writefile stocks.yaml\n",
    "\n",
    "path: stocks.csv\n",
    "delimiter: \",\"\n",
    "num_columns: 6\n",
    "columns: \n",
    "    - exchangecountry\n",
    "    - symbol\n",
    "    - companyname\n",
    "    - returnonequity\n",
    "    - priceearningsratio\n",
    "    - dividendyield"
   ]
  },
  {
   "cell_type": "code",
   "execution_count": 10,
   "metadata": {},
   "outputs": [],
   "source": [
    "# using YAML \n",
    "import utils as u \n",
    "\n",
    "conf_table = u.read_yaml(\"stocks.yaml\")"
   ]
  },
  {
   "cell_type": "code",
   "execution_count": 11,
   "metadata": {},
   "outputs": [
    {
     "output_type": "execute_result",
     "data": {
      "text/plain": [
       "{'path': 'stocks.csv',\n",
       " 'delimiter': ',',\n",
       " 'num_columns': 6,\n",
       " 'columns': ['exchangecountry',\n",
       "  'symbol',\n",
       "  'companyname',\n",
       "  'returnonequity',\n",
       "  'priceearningsratio',\n",
       "  'dividendyield']}"
      ]
     },
     "metadata": {},
     "execution_count": 11
    }
   ],
   "source": [
    "conf_table"
   ]
  },
  {
   "source": [
    "## cleaning the pandas data "
   ],
   "cell_type": "markdown",
   "metadata": {}
  },
  {
   "cell_type": "code",
   "execution_count": 12,
   "metadata": {},
   "outputs": [
    {
     "output_type": "execute_result",
     "data": {
      "text/plain": [
       "  Exchange Country Symbol                 Company Name  Return on Equity %  \\\n",
       "0              USA     AB  Alliancebernstein Holding LP             87.00%   \n",
       "1              USA    ABR        Arbor Realty Trust Inc             82.00%   \n",
       "\n",
       "  Price / Earnings Ratio % Dividend Yield %  \n",
       "0                   30.00%              98%  \n",
       "1                   31.00%              96%  "
      ],
      "text/html": "<div>\n<style scoped>\n    .dataframe tbody tr th:only-of-type {\n        vertical-align: middle;\n    }\n\n    .dataframe tbody tr th {\n        vertical-align: top;\n    }\n\n    .dataframe thead th {\n        text-align: right;\n    }\n</style>\n<table border=\"1\" class=\"dataframe\">\n  <thead>\n    <tr style=\"text-align: right;\">\n      <th></th>\n      <th>Exchange Country</th>\n      <th>Symbol</th>\n      <th>Company Name</th>\n      <th>Return on Equity %</th>\n      <th>Price / Earnings Ratio %</th>\n      <th>Dividend Yield %</th>\n    </tr>\n  </thead>\n  <tbody>\n    <tr>\n      <th>0</th>\n      <td>USA</td>\n      <td>AB</td>\n      <td>Alliancebernstein Holding LP</td>\n      <td>87.00%</td>\n      <td>30.00%</td>\n      <td>98%</td>\n    </tr>\n    <tr>\n      <th>1</th>\n      <td>USA</td>\n      <td>ABR</td>\n      <td>Arbor Realty Trust Inc</td>\n      <td>82.00%</td>\n      <td>31.00%</td>\n      <td>96%</td>\n    </tr>\n  </tbody>\n</table>\n</div>"
     },
     "metadata": {},
     "execution_count": 12
    }
   ],
   "source": [
    "pd_stocks.head(2)"
   ]
  },
  {
   "cell_type": "code",
   "execution_count": 13,
   "metadata": {},
   "outputs": [],
   "source": [
    "# cleaning the column headers \n",
    "u.clean_col_names(pd_stocks)"
   ]
  },
  {
   "cell_type": "code",
   "execution_count": 14,
   "metadata": {},
   "outputs": [
    {
     "output_type": "execute_result",
     "data": {
      "text/plain": [
       "  exchangecountry symbol                   companyname returnonequity  \\\n",
       "0             USA     AB  Alliancebernstein Holding LP         87.00%   \n",
       "1             USA    ABR        Arbor Realty Trust Inc         82.00%   \n",
       "\n",
       "  priceearningsratio dividendyield  \n",
       "0             30.00%           98%  \n",
       "1             31.00%           96%  "
      ],
      "text/html": "<div>\n<style scoped>\n    .dataframe tbody tr th:only-of-type {\n        vertical-align: middle;\n    }\n\n    .dataframe tbody tr th {\n        vertical-align: top;\n    }\n\n    .dataframe thead th {\n        text-align: right;\n    }\n</style>\n<table border=\"1\" class=\"dataframe\">\n  <thead>\n    <tr style=\"text-align: right;\">\n      <th></th>\n      <th>exchangecountry</th>\n      <th>symbol</th>\n      <th>companyname</th>\n      <th>returnonequity</th>\n      <th>priceearningsratio</th>\n      <th>dividendyield</th>\n    </tr>\n  </thead>\n  <tbody>\n    <tr>\n      <th>0</th>\n      <td>USA</td>\n      <td>AB</td>\n      <td>Alliancebernstein Holding LP</td>\n      <td>87.00%</td>\n      <td>30.00%</td>\n      <td>98%</td>\n    </tr>\n    <tr>\n      <th>1</th>\n      <td>USA</td>\n      <td>ABR</td>\n      <td>Arbor Realty Trust Inc</td>\n      <td>82.00%</td>\n      <td>31.00%</td>\n      <td>96%</td>\n    </tr>\n  </tbody>\n</table>\n</div>"
     },
     "metadata": {},
     "execution_count": 14
    }
   ],
   "source": [
    "# column headers cleaned! \n",
    "pd_stocks.head(2)"
   ]
  },
  {
   "source": [
    "## Validate the incoming dataframe from Pandas with the YAML file information on the data "
   ],
   "cell_type": "markdown",
   "metadata": {}
  },
  {
   "cell_type": "code",
   "execution_count": 15,
   "metadata": {},
   "outputs": [
    {
     "output_type": "stream",
     "name": "stdout",
     "text": [
      "Validation test: PASS\n"
     ]
    }
   ],
   "source": [
    "col_val = u.col_val(pd_stocks, conf_table)"
   ]
  },
  {
   "cell_type": "code",
   "execution_count": 16,
   "metadata": {},
   "outputs": [
    {
     "output_type": "stream",
     "name": "stdout",
     "text": [
      "The file name is stocks.csv\nThe delimiter used is ','\nThe number of columns in the data is 6\nThe data is 2GB in size.\nThe columns for the data are: ['exchangecountry', 'symbol', 'companyname', 'returnonequity', 'priceearningsratio', 'dividendyield']\n"
     ]
    }
   ],
   "source": [
    "u.result(col_val, pd_stocks, conf_table)"
   ]
  },
  {
   "source": [
    "## test dataframe to demo what happens if the columns dont match \n"
   ],
   "cell_type": "markdown",
   "metadata": {}
  },
  {
   "cell_type": "code",
   "execution_count": 17,
   "metadata": {},
   "outputs": [
    {
     "output_type": "stream",
     "name": "stdout",
     "text": [
      "Incoming data consists of 3 columns.\nYAML file consists of 6 columns.\nThe listed columns are not in the incoming data: \n['priceearningsratio', 'dividendyield', 'returnonequity', 'symbol']\nThe listed columns are not in the YAML file: \n['madeupcolumn']\n\n\nIt seems that the incoming data containing the following columns: ['exchangecountry', 'companyname', 'madeupcolumn'] \nis missing ['priceearningsratio', 'dividendyield', 'returnonequity', 'symbol'] \nIt seems that the YAML file containing the following columns: ['exchangecountry', 'symbol', 'companyname', 'returnonequity', 'priceearningsratio', 'dividendyield'] \nis missing ['madeupcolumn'] \n"
     ]
    }
   ],
   "source": [
    "demo_data = {\n",
    "    \"exchange country\": [\"country 1\", \"country 2\"],\n",
    "    \"company name\": [\"name 1\", \"name 2\"],\n",
    "    \"made up column\": [1, 2]\n",
    "}\n",
    "\n",
    "demo_df = pd.DataFrame(demo_data, columns= [\"exchange country\", \"company name\", \"made up column\"])\n",
    "\n",
    "# cleaning cols \n",
    "u.clean_col_names(demo_df)\n",
    "# val col \n",
    "demo_col_val = u.col_val(demo_df, conf_table)\n",
    "print(\"\\n\")\n",
    "# results from validation \n",
    "u.result(demo_col_val, demo_df, conf_table)"
   ]
  }
 ]
}
